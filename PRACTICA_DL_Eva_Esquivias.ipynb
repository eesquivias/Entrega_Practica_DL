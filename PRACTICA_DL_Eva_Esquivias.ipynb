{
 "cells": [
  {
   "cell_type": "markdown",
   "id": "f2ac40fb",
   "metadata": {},
   "source": [
    "## PRACTICA FINAL DEEP LEARNING. Eva Esquivias"
   ]
  },
  {
   "cell_type": "code",
   "execution_count": 95,
   "id": "23e0c31e",
   "metadata": {},
   "outputs": [],
   "source": [
    "#importamos librerías necesarias para el trabajo: \n",
    "import numpy as np\n",
    "from numpy import moveaxis\n",
    "#import PIL.image\n",
    "import pandas as pd\n",
    "import matplotlib.pyplot as plt\n",
    "from matplotlib.colors import ListedColormap\n",
    "%matplotlib inline \n",
    "cm = plt.cm.RdBu\n",
    "cm_bright = ListedColormap(['#FF0000', '#0000FF'])\n",
    "\n",
    "import tensorflow as tf\n",
    "import warnings\n",
    "warnings.filterwarnings('ignore')\n",
    "\n",
    "import seaborn as sns\n",
    "import imageio as io\n",
    "import cv2\n",
    "\n",
    "from sklearn.preprocessing import MinMaxScaler\n",
    "import keras\n",
    "import os\n",
    "from keras import models\n",
    "from keras.models import Model\n",
    "from keras import layers\n",
    "from keras import optimizers\n",
    "from keras.applications.vgg16 import VGG16\n",
    "from keras.preprocessing import image\n",
    "from keras.applications.vgg16 import preprocess_input\n",
    "from keras import layers\n",
    "from keras.layers import Input, Dense, Activation, ZeroPadding2D, BatchNormalization, Flatten, Conv2D, concatenate\n",
    "from keras.layers import AveragePooling2D, MaxPooling2D, Dropout, GlobalMaxPooling2D, GlobalAveragePooling2D\n",
    "from keras.utils import layer_utils\n",
    "from keras.utils.data_utils import get_file\n",
    "from keras.applications.imagenet_utils import preprocess_input\n",
    "import pydot\n",
    "from keras.utils.vis_utils import model_to_dot\n",
    "from keras.utils import plot_model\n",
    "\n",
    "import keras.backend as K\n",
    "K.set_image_data_format('channels_last')\n",
    "\n",
    "pd.set_option('display.max_rows', None)\n",
    "pd.set_option('display.max_columns', None)\n",
    "pd.set_option('display.max_colwidth', -1)"
   ]
  },
  {
   "cell_type": "code",
   "execution_count": 2,
   "id": "799511d5",
   "metadata": {},
   "outputs": [],
   "source": [
    "###Carga del dataset y primera visión de características\n",
    "# Como ya lo tengo descargado en local, lo cargo con pandas\n",
    "data = pd.read_csv('airbnb-listings-extract.csv', sep = ';')\n",
    "#data.head(3)\n"
   ]
  },
  {
   "cell_type": "code",
   "execution_count": 3,
   "id": "10b2b2b7",
   "metadata": {},
   "outputs": [
    {
     "name": "stdout",
     "output_type": "stream",
     "text": [
      "(14780, 89)\n"
     ]
    }
   ],
   "source": [
    "# veo el tamaño (número de filas-registros y columnas-variables) del dataset\n",
    "print(data.shape)\n"
   ]
  },
  {
   "cell_type": "markdown",
   "id": "2e677520",
   "metadata": {},
   "source": [
    "Empiezo el proceso de manera sencilla y mi intención es ir de menos a más, complicándome poco a poco según vea mis posibilidades. \n",
    "Por ello decido que en una primera versión voy a simplificar la selección de variables y no voy a utilizar las columnas descriptivas. \n",
    "Sólo en versiones posteriores, en caso de llegar con tiempo, aprovecharé para usar modelos secuenciales.\n",
    "\n",
    "Empiezo por la opción propuesta en clase de analizar por un lado datos numéricos y categóricos y por otro imágenes y luego combinarlos para ver las mejores opciones de predicción.\n",
    "\n",
    "Puesto que partimos del análisis previo del dataset en el módulo de ML, lo primero que haré será un limpiado básico que me facilitará el trabajo posterior. Si no conociera el dataset y no hubiera hecho ya un análisis previo, no podría hacerlo esta limpieza sin análisis. \n"
   ]
  },
  {
   "cell_type": "code",
   "execution_count": 4,
   "id": "24b9334f",
   "metadata": {},
   "outputs": [
    {
     "data": {
      "text/plain": [
       "(13207, 89)"
      ]
     },
     "execution_count": 4,
     "metadata": {},
     "output_type": "execute_result"
    }
   ],
   "source": [
    "#lo primero que tengo que limpiar es la ciudad, ya que el filtro de Madrid del extract no está bien aplicado y me ayudará a mejorar la precisión de mi modelo haciendo el análisis únicamente de Madrid. \n",
    "#esto me afecta a los registros con lo que tengo que hacerlo antes de la comprobación y extracción de imágenes de los registros con imágenes. \n",
    "data= data[data['City']=='Madrid']\n",
    "\n",
    "data.shape"
   ]
  },
  {
   "cell_type": "code",
   "execution_count": 5,
   "id": "32694b55",
   "metadata": {},
   "outputs": [
    {
     "name": "stdout",
     "output_type": "stream",
     "text": [
      "Thumbnail Url    2478\n",
      "Picture Url      19  \n",
      "dtype: int64\n"
     ]
    }
   ],
   "source": [
    "#Con estos datos, ya puedo revisar las imágenes para eliminar los registros que no tengan imágenes. \n",
    "\n",
    "print(data[['Thumbnail Url','Picture Url']].isna().sum())\n",
    "\n",
    "#la diferencia entre el número de NA en Thumbnail y Picture me anima a intentar quedarme con Picture. \n",
    "#Pero después de los problemas que me encuentro con la carga, decido seguir con thumbnail que ocupa menos. si veo que posteriormente tengo tiempo, vuelvo\n"
   ]
  },
  {
   "cell_type": "code",
   "execution_count": 6,
   "id": "d68caf8e",
   "metadata": {},
   "outputs": [
    {
     "name": "stdout",
     "output_type": "stream",
     "text": [
      "[[0, 'https://a0.muscache.com/im/pictures/86864154/1356abbf_original.jpg?aki_policy=small'], [1, 'https://a0.muscache.com/im/pictures/69897767/28e73423_original.jpg?aki_policy=small'], [2, 'https://a0.muscache.com/im/pictures/dbcf7393-bb26-40af-ab91-aaf50ef7b380.jpg?aki_policy=small'], [3, 'https://a0.muscache.com/im/pictures/59706828/afecc7d6_original.jpg?aki_policy=small'], [4, 'https://a0.muscache.com/im/pictures/20e6f47e-2a1d-47ea-a814-d02e38efe8ca.jpg?aki_policy=small'], [5, 'https://a0.muscache.com/im/pictures/e684a7f5-038f-48a9-9829-a347a9e76dd9.jpg?aki_policy=small'], [6, 'https://a0.muscache.com/im/pictures/39774047/4b1fac5d_original.jpg?aki_policy=small'], [7, 'https://a0.muscache.com/im/pictures/49838903/35a630eb_original.jpg?aki_policy=small'], [8, 'https://a0.muscache.com/im/pictures/e1eb98be-2800-4982-83f3-c566829ec973.jpg?aki_policy=small'], [9, 'https://a0.muscache.com/im/pictures/13f63727-0893-416d-8efe-7d7ca4790739.jpg?aki_policy=small']]\n",
      "13207\n"
     ]
    }
   ],
   "source": [
    "# Extraigo las imágenes a un array. Primero creo una lista con la URL y el índice (para identificarlas cuando las trate por separado y vuelva a unirlas con el resto del dataset)\n",
    "images_paths = []\n",
    "for i, img_url in enumerate(data['Thumbnail Url']):\n",
    "  images_paths.append([i, img_url])\n",
    "\n",
    "# Reviso que está correcto\n",
    "print(images_paths[:10])\n",
    "print(len(images_paths))"
   ]
  },
  {
   "cell_type": "code",
   "execution_count": null,
   "id": "88ffc5ae",
   "metadata": {},
   "outputs": [],
   "source": [
    "# Aprovecho la función propuesta en clase para, reduciendo el tamaño de la imagen,convertir a RGB las imágenes que puedan estar en blanco y negro. Además la función generaliza el posible error que detecte a salida 'None' \n",
    "#ESTA CASILLA (Y LAS SIGUIENTES HASTA LA CARGA DE LAS IMÁGENES) NO LA HE EJECUTADO EN LAS ÚLTIMAS PRUEBAS YA QUE CARGO LAS IMÁGENES DE LOCAL QUE EMPLEA MENOS TIEMPO. \n",
    "def get_image(data_url, target_size=(128, 128)):\n",
    "    idx, url = data_url\n",
    "    try:\n",
    "        img = io.imread(url)\n",
    "        if (img.shape[0]< img.shape[1]) and (img.shape[0]<img.shape[2]):\n",
    "          img= moveaxis(img,0,2)\n",
    "        img=img[:,:,:3]\n",
    "        if img.ndim < 3:\n",
    "            img = cv2.cvtColor(img, cv2.COLOR_GRAY2RGB)\n",
    "        img = cv2.resize(img, dsize=target_size)\n",
    "        return img, idx\n",
    "    except IOError as err:\n",
    "        return (None, idx)\n"
   ]
  },
  {
   "cell_type": "code",
   "execution_count": null,
   "id": "eb2324f8",
   "metadata": {},
   "outputs": [],
   "source": [
    "# Creo los tensores para guardar las imágenes y para distinguir las que se guardan de las que no. \n",
    "\n",
    "loaded_images = np.zeros((len(images_paths), 128, 128, 3), dtype=np.uint8)\n",
    "\n",
    "was_loaded = np.zeros(len(images_paths))\n",
    "\n",
    "#compruebo que están bien creados:\n",
    "\n",
    "print(loaded_images.shape)\n",
    "was_loaded"
   ]
  },
  {
   "cell_type": "code",
   "execution_count": null,
   "id": "be7b7cf8",
   "metadata": {},
   "outputs": [],
   "source": [
    "# con la función get_image descargo las imágenes para cargarlas en los tensores\n",
    "#import concurrent\n",
    "from tqdm import tqdm\n",
    "#with concurrent.futures.ProcessPoolExecutor() as executor:\n",
    "for (img, idx) in tqdm(map(get_image, images_paths), total=len(images_paths)):\n",
    "      \n",
    "    if img is not None:\n",
    "        loaded_images[idx] = img\n",
    "        was_loaded[idx] = 1\n",
    "    else:\n",
    "        was_loaded[idx] = 0\n",
    "\n",
    "print('Finished!')\n",
    "print(f'Number of images loaded: {sum(was_loaded)}/{len(images_paths)}')"
   ]
  },
  {
   "cell_type": "code",
   "execution_count": null,
   "id": "56489a56",
   "metadata": {},
   "outputs": [],
   "source": [
    "# con la función get_image descargo las imágenes para cargarlas en los tensores\n",
    "#import concurrent\n",
    "#from tqdm import tqdm\n",
    "#with concurrent.futures.ProcessPoolExecutor() as executor:\n",
    "#  for (img, idx) in tqdm(executor.map(get_image, images_paths), total=len(images_paths)):\n",
    "    \n",
    "#    if img is not None:\n",
    " #       loaded_images[idx] = img\n",
    " #       was_loaded[idx] = 1\n",
    "  #  else:\n",
    "   #     was_loaded[idx] = 0\n",
    "#\n",
    "#print('Finished!')\n",
    "#print(f'Number of images loaded: {sum(was_loaded)}/{len(images_paths)}')"
   ]
  },
  {
   "cell_type": "code",
   "execution_count": null,
   "id": "7bdcefbe",
   "metadata": {},
   "outputs": [],
   "source": [
    "# Guardo los tensores para no tener que volver a realizar el proceso, ya que es largo. \n",
    "np.save('images.npy', loaded_images)\n",
    "np.save('was_loaded.npy', was_loaded)\n",
    "\n",
    "#compruebo lo que he guardado\n",
    "was_loaded\n",
    "\n",
    "#y el tamaño del tensor de las imágenes. \n",
    "loaded_images.shape\n",
    "#incluye todas, las que han dado error y las que no. \n"
   ]
  },
  {
   "cell_type": "code",
   "execution_count": 7,
   "id": "12f641c0",
   "metadata": {},
   "outputs": [],
   "source": [
    "#en las últimas versiones cargo las imágenes descargadas con las indicaciones de los apartados anteriores con este comando y a partir de este punto continuo. \n",
    "loaded_images = np.load('images.npy')\n",
    "was_loaded = np.load('was_loaded.npy')\n"
   ]
  },
  {
   "cell_type": "code",
   "execution_count": 8,
   "id": "50eeb210",
   "metadata": {},
   "outputs": [
    {
     "data": {
      "text/plain": [
       "<matplotlib.image.AxesImage at 0x15da82a39d0>"
      ]
     },
     "execution_count": 8,
     "metadata": {},
     "output_type": "execute_result"
    },
    {
     "data": {
      "image/png": "[encoded data removed]",
      "text/plain": [
       "<Figure size 432x288 with 1 Axes>"
      ]
     },
     "metadata": {
      "needs_background": "light"
     },
     "output_type": "display_data"
    }
   ],
   "source": [
    "#creo un conjunto con las imágenes que han dado error \n",
    "loaded_imgs_error =loaded_images[was_loaded == 0]\n",
    "loaded_imgs_error.shape\n",
    "\n",
    "#confirmo que las imágenes que quito son error (imagen completamente en negro en todas las pruebas)\n",
    "index = 15\n",
    "plt.imshow(loaded_imgs_error[index])"
   ]
  },
  {
   "cell_type": "code",
   "execution_count": 9,
   "id": "22edbf7d",
   "metadata": {},
   "outputs": [
    {
     "data": {
      "text/plain": [
       "<matplotlib.image.AxesImage at 0x15da8302bb0>"
      ]
     },
     "execution_count": 9,
     "metadata": {},
     "output_type": "execute_result"
    },
    {
     "data": {
      "image/png": "[encoded data removed]",
      "text/plain": [
       "<Figure size 432x288 with 1 Axes>"
      ]
     },
     "metadata": {
      "needs_background": "light"
     },
     "output_type": "display_data"
    }
   ],
   "source": [
    "#dejo sólo las que se han cargado del tensor de imágenes igual que quitaremos los errores del dataset. \n",
    "loaded_imgs_clean = loaded_images[was_loaded == 1]\n",
    "loaded_imgs_clean.shape\n",
    "\n",
    "\n",
    "#pruebo una imagen al azar..voy modificando el índice como hicimos en clase. \n",
    "index = 15\n",
    "plt.imshow(loaded_imgs_clean[index])"
   ]
  },
  {
   "cell_type": "code",
   "execution_count": 10,
   "id": "61d057f2",
   "metadata": {},
   "outputs": [
    {
     "name": "stdout",
     "output_type": "stream",
     "text": [
      "(10700, 89)\n"
     ]
    },
    {
     "data": {
      "text/html": [
       "<div>\n",
       "<style scoped>\n",
       "    .dataframe tbody tr th:only-of-type {\n",
       "        vertical-align: middle;\n",
       "    }\n",
       "\n",
       "    .dataframe tbody tr th {\n",
       "        vertical-align: top;\n",
       "    }\n",
       "\n",
       "    .dataframe thead th {\n",
       "        text-align: right;\n",
       "    }\n",
       "</style>\n",
       "<table border=\"1\" class=\"dataframe\">\n",
       "  <thead>\n",
       "    <tr style=\"text-align: right;\">\n",
       "      <th></th>\n",
       "      <th>ID</th>\n",
       "      <th>Listing Url</th>\n",
       "      <th>Scrape ID</th>\n",
       "      <th>Last Scraped</th>\n",
       "      <th>Name</th>\n",
       "      <th>Summary</th>\n",
       "      <th>Space</th>\n",
       "      <th>Description</th>\n",
       "      <th>Experiences Offered</th>\n",
       "      <th>Neighborhood Overview</th>\n",
       "      <th>Notes</th>\n",
       "      <th>Transit</th>\n",
       "      <th>Access</th>\n",
       "      <th>Interaction</th>\n",
       "      <th>House Rules</th>\n",
       "      <th>Thumbnail Url</th>\n",
       "      <th>Medium Url</th>\n",
       "      <th>Picture Url</th>\n",
       "      <th>XL Picture Url</th>\n",
       "      <th>Host ID</th>\n",
       "      <th>Host URL</th>\n",
       "      <th>Host Name</th>\n",
       "      <th>Host Since</th>\n",
       "      <th>Host Location</th>\n",
       "      <th>Host About</th>\n",
       "      <th>Host Response Time</th>\n",
       "      <th>Host Response Rate</th>\n",
       "      <th>Host Acceptance Rate</th>\n",
       "      <th>Host Thumbnail Url</th>\n",
       "      <th>Host Picture Url</th>\n",
       "      <th>Host Neighbourhood</th>\n",
       "      <th>Host Listings Count</th>\n",
       "      <th>Host Total Listings Count</th>\n",
       "      <th>Host Verifications</th>\n",
       "      <th>Street</th>\n",
       "      <th>Neighbourhood</th>\n",
       "      <th>Neighbourhood Cleansed</th>\n",
       "      <th>Neighbourhood Group Cleansed</th>\n",
       "      <th>City</th>\n",
       "      <th>State</th>\n",
       "      <th>Zipcode</th>\n",
       "      <th>Market</th>\n",
       "      <th>Smart Location</th>\n",
       "      <th>Country Code</th>\n",
       "      <th>Country</th>\n",
       "      <th>Latitude</th>\n",
       "      <th>Longitude</th>\n",
       "      <th>Property Type</th>\n",
       "      <th>Room Type</th>\n",
       "      <th>Accommodates</th>\n",
       "      <th>Bathrooms</th>\n",
       "      <th>Bedrooms</th>\n",
       "      <th>Beds</th>\n",
       "      <th>Bed Type</th>\n",
       "      <th>Amenities</th>\n",
       "      <th>Square Feet</th>\n",
       "      <th>Price</th>\n",
       "      <th>Weekly Price</th>\n",
       "      <th>Monthly Price</th>\n",
       "      <th>Security Deposit</th>\n",
       "      <th>Cleaning Fee</th>\n",
       "      <th>Guests Included</th>\n",
       "      <th>Extra People</th>\n",
       "      <th>Minimum Nights</th>\n",
       "      <th>Maximum Nights</th>\n",
       "      <th>Calendar Updated</th>\n",
       "      <th>Has Availability</th>\n",
       "      <th>Availability 30</th>\n",
       "      <th>Availability 60</th>\n",
       "      <th>Availability 90</th>\n",
       "      <th>Availability 365</th>\n",
       "      <th>Calendar last Scraped</th>\n",
       "      <th>Number of Reviews</th>\n",
       "      <th>First Review</th>\n",
       "      <th>Last Review</th>\n",
       "      <th>Review Scores Rating</th>\n",
       "      <th>Review Scores Accuracy</th>\n",
       "      <th>Review Scores Cleanliness</th>\n",
       "      <th>Review Scores Checkin</th>\n",
       "      <th>Review Scores Communication</th>\n",
       "      <th>Review Scores Location</th>\n",
       "      <th>Review Scores Value</th>\n",
       "      <th>License</th>\n",
       "      <th>Jurisdiction Names</th>\n",
       "      <th>Cancellation Policy</th>\n",
       "      <th>Calculated host listings count</th>\n",
       "      <th>Reviews per Month</th>\n",
       "      <th>Geolocation</th>\n",
       "      <th>Features</th>\n",
       "    </tr>\n",
       "  </thead>\n",
       "  <tbody>\n",
       "    <tr>\n",
       "      <th>40</th>\n",
       "      <td>6478626</td>\n",
       "      <td>https://www.airbnb.com/rooms/6478626</td>\n",
       "      <td>20170407214119</td>\n",
       "      <td>2017-04-08</td>\n",
       "      <td>Habitación con baño .</td>\n",
       "      <td>Habitación con cama de 150 ,  para una o dos personas , tiene un baño propio , tranquilo , la zona esta muy bien , cerca del centro , con autobuses , taxi y metro de conde de Casal abajo de casa ., cerca del parque del retiro .</td>\n",
       "      <td>Tranquilidad y respeto del espacio room with bathroom equipped with a 150 Cm bed for one or two person. per night. Located in a very good and quite area close to downtown. Bus, taxy or metro (Conde de Casal Station) well connected. The metro station is just in front of the main entrance.</td>\n",
       "      <td>Habitación con cama de 150 ,  para una o dos personas , tiene un baño propio , tranquilo , la zona esta muy bien , cerca del centro , con autobuses , taxi y metro de conde de Casal abajo de casa ., cerca del parque del retiro . Tranquilidad y respeto del espacio room with bathroom equipped with a 150 Cm bed for one or two person. per night. Located in a very good and quite area close to downtown. Bus, taxy or metro (Conde de Casal Station) well connected. The metro station is just in front of the main entrance. Pueden usar la nevera , microondas , wifi . Cualquier cosa Q necesiten estaremos para ayudarles Barrio muy bien comunicado , metro , autobús , taxi , abajo de casa , súper mercados , tiendas , bares , restaurantes , farmacia todo muy cerca . Metro conde de Casal abajo de casa . Líneas de autobuses hacia el centro . Base de taxi .</td>\n",
       "      <td>none</td>\n",
       "      <td>Barrio muy bien comunicado , metro , autobús , taxi , abajo de casa , súper mercados , tiendas , bares , restaurantes , farmacia todo muy cerca .</td>\n",
       "      <td>NaN</td>\n",
       "      <td>Metro conde de Casal abajo de casa . Líneas de autobuses hacia el centro . Base de taxi .</td>\n",
       "      <td>Pueden usar la nevera , microondas , wifi .</td>\n",
       "      <td>Cualquier cosa Q necesiten estaremos para ayudarles</td>\n",
       "      <td>Si son fumadores podéis  fumar en un patio Q hay en la cocina , en el resto del apartamento no .</td>\n",
       "      <td>https://a0.muscache.com/im/pictures/86864154/1356abbf_original.jpg?aki_policy=small</td>\n",
       "      <td>https://a0.muscache.com/im/pictures/86864154/1356abbf_original.jpg?aki_policy=medium</td>\n",
       "      <td>https://public.opendatasoft.com/api/v2/catalog/datasets/airbnb-listings/files/04b47ccd1610a1c42e0e79e55c0d5897</td>\n",
       "      <td>https://a0.muscache.com/im/pictures/86864154/1356abbf_original.jpg?aki_policy=x_large</td>\n",
       "      <td>25709853</td>\n",
       "      <td>https://www.airbnb.com/users/show/25709853</td>\n",
       "      <td>Vílma</td>\n",
       "      <td>2015-01-06</td>\n",
       "      <td>Madrid, Community of Madrid, Spain</td>\n",
       "      <td>NaN</td>\n",
       "      <td>within an hour</td>\n",
       "      <td>84.0</td>\n",
       "      <td>NaN</td>\n",
       "      <td>https://a0.muscache.com/im/users/25709853/profile_pic/1433326196/original.jpg?aki_policy=profile_small</td>\n",
       "      <td>https://a0.muscache.com/im/users/25709853/profile_pic/1433326196/original.jpg?aki_policy=profile_x_medium</td>\n",
       "      <td>NaN</td>\n",
       "      <td>3.0</td>\n",
       "      <td>3.0</td>\n",
       "      <td>email,phone,reviews</td>\n",
       "      <td>Madrid, Comunidad de Madrid 28007, Spain</td>\n",
       "      <td>NaN</td>\n",
       "      <td>Niño Jesús</td>\n",
       "      <td>Retiro</td>\n",
       "      <td>Madrid</td>\n",
       "      <td>Comunidad de Madrid</td>\n",
       "      <td>28007</td>\n",
       "      <td>Madrid</td>\n",
       "      <td>Madrid, Spain</td>\n",
       "      <td>ES</td>\n",
       "      <td>Spain</td>\n",
       "      <td>40.406953</td>\n",
       "      <td>-3.670894</td>\n",
       "      <td>Apartment</td>\n",
       "      <td>Private room</td>\n",
       "      <td>2</td>\n",
       "      <td>2.0</td>\n",
       "      <td>1.0</td>\n",
       "      <td>1.0</td>\n",
       "      <td>Real Bed</td>\n",
       "      <td>TV,Wireless Internet,Kitchen,Heating,Essentials,Hair dryer,Iron</td>\n",
       "      <td>NaN</td>\n",
       "      <td>28.0</td>\n",
       "      <td>NaN</td>\n",
       "      <td>NaN</td>\n",
       "      <td>NaN</td>\n",
       "      <td>NaN</td>\n",
       "      <td>1</td>\n",
       "      <td>5</td>\n",
       "      <td>1</td>\n",
       "      <td>1125</td>\n",
       "      <td>2 weeks ago</td>\n",
       "      <td>NaN</td>\n",
       "      <td>0</td>\n",
       "      <td>3</td>\n",
       "      <td>12</td>\n",
       "      <td>240</td>\n",
       "      <td>2017-04-07</td>\n",
       "      <td>171</td>\n",
       "      <td>2015-06-14</td>\n",
       "      <td>2017-03-22</td>\n",
       "      <td>87.0</td>\n",
       "      <td>9.0</td>\n",
       "      <td>9.0</td>\n",
       "      <td>9.0</td>\n",
       "      <td>9.0</td>\n",
       "      <td>9.0</td>\n",
       "      <td>9.0</td>\n",
       "      <td>NaN</td>\n",
       "      <td>NaN</td>\n",
       "      <td>flexible</td>\n",
       "      <td>3.0</td>\n",
       "      <td>7.71</td>\n",
       "      <td>40.4069528479,-3.6708944906</td>\n",
       "      <td>Host Has Profile Pic,Requires License,Instant Bookable</td>\n",
       "    </tr>\n",
       "    <tr>\n",
       "      <th>41</th>\n",
       "      <td>4941335</td>\n",
       "      <td>https://www.airbnb.com/rooms/4941335</td>\n",
       "      <td>20170407214119</td>\n",
       "      <td>2017-04-08</td>\n",
       "      <td>Cómodo estudio en la calle Goya</td>\n",
       "      <td>Bonito estudio en el barrio comercial y financiero de Madrid, excelentemente comunicado por transporte público y con el aeropuerto, con todas las comodidades para relajarte después de un día de turismo o de trabajo. Colchón y almohadas viscoelásticas</td>\n",
       "      <td>Este estudio, regentado por Marta y Marcos, ha sido preparado para ofrecerte todas las comodidades. Con el metro en la puerta y el Parque de El Retiro a tres minutos, podrás disfrutar de las zonas más turísticas de Madrid sin ninguna complicación, y si vienes por viaje de trabajo te encontrarás en el barrio financiero y de oficinas de Madrid, y perfectamente comunicado con metro, autobuses y con una parada de taxis enfrente. Si vienes en avión, el autobús que te trae del aeropuerto te dejará a cinco minutos. Al regresar de un ajetreado día, ya sea por turismo o por trabajo, podrás disfrutar de todas las comodidades que hemos intentado preparar para ti.</td>\n",
       "      <td>Bonito estudio en el barrio comercial y financiero de Madrid, excelentemente comunicado por transporte público y con el aeropuerto, con todas las comodidades para relajarte después de un día de turismo o de trabajo. Colchón y almohadas viscoelásticas Este estudio, regentado por Marta y Marcos, ha sido preparado para ofrecerte todas las comodidades. Con el metro en la puerta y el Parque de El Retiro a tres minutos, podrás disfrutar de las zonas más turísticas de Madrid sin ninguna complicación, y si vienes por viaje de trabajo te encontrarás en el barrio financiero y de oficinas de Madrid, y perfectamente comunicado con metro, autobuses y con una parada de taxis enfrente. Si vienes en avión, el autobús que te trae del aeropuerto te dejará a cinco minutos. Al regresar de un ajetreado día, ya sea por turismo o por trabajo, podrás disfrutar de todas las comodidades que hemos intentado preparar para ti.  En dos agradables sillones puedes tomar un café, usar tu portátil (adsl wi-fi gratuito)</td>\n",
       "      <td>none</td>\n",
       "      <td>NaN</td>\n",
       "      <td>NaN</td>\n",
       "      <td>NaN</td>\n",
       "      <td>En dos agradables sillones puedes tomar un café, usar tu portátil (adsl wi-fi gratuito) o ver la televisión. Pero también podrás ver la tele desde la cama, y aquí está lo que nos parece más importante. A nosotros nos gusta mucho dormir, y cuando viajamos creemos que es esencial hacerlo cómodamente. Por eso, tanto el colchón (de 1,35) como las almohadas son de viscoelástica.  La cocina está equipada para que no tengas que comer fuera de casa si no quieres. Y si tu estancia va a ser larga, no es necesario que traigas una maleta enorme, puesto que dispones de lavadora (te dejamos detergente y suavizante) y plancha. Y si eres de los que te gusta tomar un baño, no querrás salir de la amplísima bañera, en la que el agua caliente centralizada hará que puedas conseguir el agua tan caliente como quieras. Te proporcionamos gel, champú, toallas y secador de pelo, para que no tengas que traerlo. Y por último, la calefacción central en invierno y el aire acondicionado en verano conseguirán que te s</td>\n",
       "      <td>Te atenderemos en todo lo que necesites. Marta o Marcos te recibiremos a tu llegada y te despediremos a tu salida, y estaremos pendientes de que estés a gusto en todo momento.</td>\n",
       "      <td>No se permite fumar. El estudio está acondicionado para dos personas, por lo que no se admiten huéspedes adicionales, excepto bebés (no disponemos de cuna). No se permiten actividades incómodas, molestas o insalubres para el resto de los vecinos, en particular celebrar fiestas o hacer ruidos altos por la noche (roncar sí está permitido). La Comunidad de Madrid exige la separación de residuos para su posterior reciclaje. Te indicaremos cómo hacerlo a tu llegada. El conserje de la comunidad recogerá  las bolsas en la puerta en el horario indicado.</td>\n",
       "      <td>https://a0.muscache.com/im/pictures/69897767/28e73423_original.jpg?aki_policy=small</td>\n",
       "      <td>https://a0.muscache.com/im/pictures/69897767/28e73423_original.jpg?aki_policy=medium</td>\n",
       "      <td>https://public.opendatasoft.com/api/v2/catalog/datasets/airbnb-listings/files/4a66372ed2f39613c83c2607df65a7b8</td>\n",
       "      <td>https://a0.muscache.com/im/pictures/69897767/28e73423_original.jpg?aki_policy=x_large</td>\n",
       "      <td>25465787</td>\n",
       "      <td>https://www.airbnb.com/users/show/25465787</td>\n",
       "      <td>Marta</td>\n",
       "      <td>2015-01-01</td>\n",
       "      <td>Madrid, Community of Madrid, Spain</td>\n",
       "      <td>NaN</td>\n",
       "      <td>within a few hours</td>\n",
       "      <td>100.0</td>\n",
       "      <td>NaN</td>\n",
       "      <td>https://a0.muscache.com/im/users/25465787/profile_pic/1424568735/original.jpg?aki_policy=profile_small</td>\n",
       "      <td>https://a0.muscache.com/im/users/25465787/profile_pic/1424568735/original.jpg?aki_policy=profile_x_medium</td>\n",
       "      <td>Recoletos</td>\n",
       "      <td>1.0</td>\n",
       "      <td>1.0</td>\n",
       "      <td>email,phone,reviews</td>\n",
       "      <td>Recoletos, Madrid, Comunidad de Madrid 28001, Spain</td>\n",
       "      <td>Recoletos</td>\n",
       "      <td>Recoletos</td>\n",
       "      <td>Salamanca</td>\n",
       "      <td>Madrid</td>\n",
       "      <td>Comunidad de Madrid</td>\n",
       "      <td>28001</td>\n",
       "      <td>Madrid</td>\n",
       "      <td>Madrid, Spain</td>\n",
       "      <td>ES</td>\n",
       "      <td>Spain</td>\n",
       "      <td>40.425904</td>\n",
       "      <td>-3.681647</td>\n",
       "      <td>Apartment</td>\n",
       "      <td>Entire home/apt</td>\n",
       "      <td>2</td>\n",
       "      <td>1.0</td>\n",
       "      <td>0.0</td>\n",
       "      <td>1.0</td>\n",
       "      <td>Real Bed</td>\n",
       "      <td>TV,Internet,Wireless Internet,Air conditioning,Kitchen,Elevator in building,Heating,Family/kid friendly,Washer,First aid kit,Essentials,Shampoo,translation missing: en.hosting_amenity_49</td>\n",
       "      <td>NaN</td>\n",
       "      <td>58.0</td>\n",
       "      <td>371.0</td>\n",
       "      <td>981.0</td>\n",
       "      <td>100.0</td>\n",
       "      <td>NaN</td>\n",
       "      <td>1</td>\n",
       "      <td>0</td>\n",
       "      <td>2</td>\n",
       "      <td>1125</td>\n",
       "      <td>6 days ago</td>\n",
       "      <td>NaN</td>\n",
       "      <td>4</td>\n",
       "      <td>9</td>\n",
       "      <td>9</td>\n",
       "      <td>15</td>\n",
       "      <td>2017-04-08</td>\n",
       "      <td>52</td>\n",
       "      <td>2015-03-02</td>\n",
       "      <td>2017-02-12</td>\n",
       "      <td>96.0</td>\n",
       "      <td>10.0</td>\n",
       "      <td>10.0</td>\n",
       "      <td>10.0</td>\n",
       "      <td>10.0</td>\n",
       "      <td>10.0</td>\n",
       "      <td>10.0</td>\n",
       "      <td>NaN</td>\n",
       "      <td>NaN</td>\n",
       "      <td>moderate</td>\n",
       "      <td>1.0</td>\n",
       "      <td>2.03</td>\n",
       "      <td>40.4259039216,-3.6816474596</td>\n",
       "      <td>Host Has Profile Pic,Is Location Exact,Requires License</td>\n",
       "    </tr>\n",
       "    <tr>\n",
       "      <th>42</th>\n",
       "      <td>12510355</td>\n",
       "      <td>https://www.airbnb.com/rooms/12510355</td>\n",
       "      <td>20170407214119</td>\n",
       "      <td>2017-04-08</td>\n",
       "      <td>Studio &amp; Terrace - Barrio Salamanca</td>\n",
       "      <td>Bright and refurbished studio, located in one of the best neighborhoods of Madrid, with an amazing terrace where you can relax and enjoy the sun. The studio has a double bed, a bed-sofa, 1 full equiped bathroom and kitchen.</td>\n",
       "      <td>Bright and refurbished studio, located in one of the best neighborhoods of Madrid, with an amazing terrace where you can relax and enjoy the sun. The studio has a double bed, a bed-sofa, 1 full equiped bathroom and kitchen.</td>\n",
       "      <td>Bright and refurbished studio, located in one of the best neighborhoods of Madrid, with an amazing terrace where you can relax and enjoy the sun. The studio has a double bed, a bed-sofa, 1 full equiped bathroom and kitchen. Bright and refurbished studio, located in one of the best neighborhoods of Madrid, with an amazing terrace where you can relax and enjoy the sun. The studio has a double bed, a bed-sofa, 1 full equiped bathroom and kitchen. During the stay, guests have access to the entire house. You can use all the apartment. You can use the kitchen and everything you will find in it.  The apartment is provided with linens adn towels for all guests, so you do not need to worry about that. In the bathroom you will find everything as if you are in the hotel of 5 stars: shampoo and shower gel, liquid soap are waiting for you. It's no need you bring all this with you. The apartment has been furnished with all the necessary appliances to ensure a comfortable and great stay. The house in</td>\n",
       "      <td>none</td>\n",
       "      <td>The Studio is located in a quiet street, in the famous neighborhood Barrio de Salamanca, and really close from El Corte Inglés situated in Serrano.  Barrio de Salamanca, is one of the most coveted and elegant areas of central Madrid. Considered an area designed in the past to the nobility. In the Golden Mile. Located between streets of great importance such as Serrano, Ortega y Gasset and Velazquez, where safety, good communication of its streets with the rest of the city and services offered, make it one of the best places to spend a great stay in the Spanish capital. In the Barrio de Salamanca the best and most glamorous firms are concentrated. It is one of the districts with higher living standards at European level and has the best luxury hopping in Madrid. Boutiques like Gucci, Channel, Carolina Herrera or some of the most prestigious jewelers and art galleries are found in the area. Dining is varied. In the Barrio de Salamanca we can enjoy the most select and exclusive restaurant</td>\n",
       "      <td>Check in time is at 3pm or later, although sometimes I may manage to let you in before, so just ask. If you arrive later than 11pm there will be a small late check-in fee of 15€ to be paid at arrival. The front door is self-locking. Please do not leave the keys in the apartment while you are still in the city. Upon checkout, please just leave the keys on the living room table and  close the door behind you. The checkout time is anytime before 12pm unless you have agreed to checkout at a different time in advance. Our housekeeper will usually come at 12pm, in which case, please let her in!</td>\n",
       "      <td>PUBLIC TRANSPORT Subway/Metro station Serrano (line 4) Subway/Metro station Velázquez (line 4) Subway/Metro station Colón (line 4) HOW TO ARRIVE FROM THE AIRPORT - Subway/Metro (30 minutes aprox and 4,50€) At the airport take line 8 to Nuevos Ministerios In N.Ministerios take line 10 to Alonso Martínez. In A.Martínez take line 4 to Serrano. Walk to the apartment (290 metres and 3 minutes) -Taxi ( 30€ and 25 minutes) - Aerocity/Airport Shuttle:  25 minutes and around 25€ for 4 people. HOW TO ARRIVE FROM ATOCHA STATION - Subway/Metro (18 minutes aprox and 1,50€) In Atocha take line 1 to Bilbao. In Bilbao transfer to line 4 to Serrano. Walk to the apartment (290metres and 3 miutes) - Taxi (around 10 minutes and 10€) HOW TO ARRIVE FROM CHAMARTÍN STATION - Subway/Metro ( 18 minutes aprox and 1,50€) In Chamartín take line 10 to Alonso Martínez In A.Martínez transfer to line 4 to Serrano. Walk to the apartment (290metres and 3 miutes) - Taxi (around 10 minutes and 10€)</td>\n",
       "      <td>During the stay, guests have access to the entire house. You can use all the apartment. You can use the kitchen and everything you will find in it.  The apartment is provided with linens adn towels for all guests, so you do not need to worry about that. In the bathroom you will find everything as if you are in the hotel of 5 stars: shampoo and shower gel, liquid soap are waiting for you. It's no need you bring all this with you. The apartment has been furnished with all the necessary appliances to ensure a comfortable and great stay. The house includes, among others: - Heating - Air conditioner - Wifi - Flat screen TV - Full equipped kitchen (oven, microwave, coffe maker, fridge &amp; freezer...) - Washer - Natural light in all rooms - Lift in the building - Intercom - Hangers in closets - Linens &amp; 2 towels per guest - Check-in at any time - Property Guide with tips of the neighborhood and Madrid - Attention during the stay in case of any incident.</td>\n",
       "      <td>Guests can expect access to any information / recommendation on the city and help in anything that is available at all times from the beginning of their book to the end of the stay. Guests decide how I and my team will be able to help him. My friends at Minty Host help me manage my apartment as I am usually out of the city. They will make your stay a perfect stay. They will welcome you and be available for anything you might need.</td>\n",
       "      <td>SPANISH: - No se permiten fiestas ni reuniones de muchas personas en el apartamento. - No se permite ruído elevado, especialmente a partir de las 23h entre semana ó 24h los fines de semana. - No se admiten mascotas - No se permite fumar - Sacar la basura cuando sea necesario, por favor no la acumules en la vivienda durante la estancia ENGLISH: - No parties and gatherings of many people allowed in the apartment. - No loud noise, especially from 23h. - No pets allowed - Smoking is not allowed - Take out the trash when necessary. Please do not accumulate it in the apartment during the stay</td>\n",
       "      <td>https://a0.muscache.com/im/pictures/dbcf7393-bb26-40af-ab91-aaf50ef7b380.jpg?aki_policy=small</td>\n",
       "      <td>https://a0.muscache.com/im/pictures/dbcf7393-bb26-40af-ab91-aaf50ef7b380.jpg?aki_policy=medium</td>\n",
       "      <td>https://public.opendatasoft.com/api/v2/catalog/datasets/airbnb-listings/files/461ed1beb9f0467513d0b8614b9e3d93</td>\n",
       "      <td>https://a0.muscache.com/im/pictures/dbcf7393-bb26-40af-ab91-aaf50ef7b380.jpg?aki_policy=x_large</td>\n",
       "      <td>67750039</td>\n",
       "      <td>https://www.airbnb.com/users/show/67750039</td>\n",
       "      <td>Comunicaciones Waterloo S.L</td>\n",
       "      <td>2016-04-18</td>\n",
       "      <td>ES</td>\n",
       "      <td>Hi! \\r\\n\\r\\nI travel a lot - for work and - the best part - also for pleasure. I love meeting new people, tasting new food, experiencing new cultures. I have lived in different countries and continents so traveling is very much part of my DNA as well as my life experience. I have used Airbnb frequently in the past and I am now happy to host fellow travelers.\\r\\n\\r\\nAlthough I´m based in Madrid, I spent most of my time traveling for work, so I have decided to share with you my apartment with its great terrace.\\r\\n\\r\\nBut don't worry, you will be well taken care of when I am not in town thanks to my friends at Minty Host, who are there to help my guests anything they need. On my side, I will be more than happy to share with you the Madrid I love - its main landmarks but also its fantastic restaurants, bright squares, and bustling bars. \\r\\n\\r\\nEnjoy your stay!\\r\\n\\r\\n***\\r\\nHola!\\r\\n\\r\\nSoy una persona curiosa y es lo que me ha llevado a vivir en distintos países, conocer culturas y viajar mucho.\\r\\n\\r\\nVivo en Madrid pero estoy todo el tiempo viajando por motivos de trabajo así que he decidido compartir mi apartamento con vosotros y que disfrutéis su maravillosa terraza. Pero no os preocupéis, estaréis muy bien atendidos ya que mis amigos de Minty Host me ayudan a cuidar a mis huéspedes cuando no estoy en la ciudad.\\r\\n\\r\\nMe encanta viajar y todo tipo de viajes, de ocio y descanso, de turismo, de aventura, a grandes ciudades, pequeños pueblos o lugares salvajes, con familia, amigos o incluso solo. Disfruto mucho conociendo gente y aprendiendo de sus culturas.\\r\\n\\r\\nHe utilizado Airbnb para viajar en numerosas ocasiones y ahora me he decidido a ser anfitrión. Me gusta ofrecer un buen servicio, que la gente quede encantada de la experiencia y que disfruten en la vivienda, del barrio y de la ciudad en la que he vivido gran parte de mi vida y de la que estaré encantado de compartir sus mejores secretos.\\r\\n\\r\\nOs invito a disfrutar de la estancia!</td>\n",
       "      <td>within an hour</td>\n",
       "      <td>100.0</td>\n",
       "      <td>NaN</td>\n",
       "      <td>https://a0.muscache.com/im/pictures/bff15a50-2c8e-459b-8b54-10695d2a67f6.jpg?aki_policy=profile_small</td>\n",
       "      <td>https://a0.muscache.com/im/pictures/bff15a50-2c8e-459b-8b54-10695d2a67f6.jpg?aki_policy=profile_x_medium</td>\n",
       "      <td>Recoletos</td>\n",
       "      <td>2.0</td>\n",
       "      <td>2.0</td>\n",
       "      <td>email,phone,reviews,jumio,government_id</td>\n",
       "      <td>Recoletos, Madrid, Comunidad de Madrid 28001, Spain</td>\n",
       "      <td>Recoletos</td>\n",
       "      <td>Recoletos</td>\n",
       "      <td>Salamanca</td>\n",
       "      <td>Madrid</td>\n",
       "      <td>Comunidad de Madrid</td>\n",
       "      <td>28001</td>\n",
       "      <td>Madrid</td>\n",
       "      <td>Madrid, Spain</td>\n",
       "      <td>ES</td>\n",
       "      <td>Spain</td>\n",
       "      <td>40.428352</td>\n",
       "      <td>-3.687155</td>\n",
       "      <td>Apartment</td>\n",
       "      <td>Entire home/apt</td>\n",
       "      <td>3</td>\n",
       "      <td>1.0</td>\n",
       "      <td>0.0</td>\n",
       "      <td>2.0</td>\n",
       "      <td>Real Bed</td>\n",
       "      <td>TV,Internet,Wireless Internet,Air conditioning,Kitchen,Smoking allowed,Elevator in building,Buzzer/wireless intercom,Heating,Family/kid friendly,Washer,Essentials,Shampoo,24-hour check-in,Hangers,Hair dryer,Laptop friendly workspace</td>\n",
       "      <td>NaN</td>\n",
       "      <td>70.0</td>\n",
       "      <td>NaN</td>\n",
       "      <td>NaN</td>\n",
       "      <td>150.0</td>\n",
       "      <td>30.0</td>\n",
       "      <td>2</td>\n",
       "      <td>15</td>\n",
       "      <td>2</td>\n",
       "      <td>1125</td>\n",
       "      <td>today</td>\n",
       "      <td>NaN</td>\n",
       "      <td>7</td>\n",
       "      <td>15</td>\n",
       "      <td>32</td>\n",
       "      <td>292</td>\n",
       "      <td>2017-04-08</td>\n",
       "      <td>36</td>\n",
       "      <td>2016-05-15</td>\n",
       "      <td>2017-04-02</td>\n",
       "      <td>87.0</td>\n",
       "      <td>9.0</td>\n",
       "      <td>9.0</td>\n",
       "      <td>10.0</td>\n",
       "      <td>10.0</td>\n",
       "      <td>10.0</td>\n",
       "      <td>9.0</td>\n",
       "      <td>NaN</td>\n",
       "      <td>NaN</td>\n",
       "      <td>flexible</td>\n",
       "      <td>1.0</td>\n",
       "      <td>3.28</td>\n",
       "      <td>40.4283518893,-3.68715466311</td>\n",
       "      <td>Host Has Profile Pic,Host Identity Verified,Is Location Exact,Requires License</td>\n",
       "    </tr>\n",
       "    <tr>\n",
       "      <th>43</th>\n",
       "      <td>4756811</td>\n",
       "      <td>https://www.airbnb.com/rooms/4756811</td>\n",
       "      <td>20170407214119</td>\n",
       "      <td>2017-04-08</td>\n",
       "      <td>Cute single room -private bathroom</td>\n",
       "      <td>Nice single room in the best area of Madrid. The apartment is fully furnished, hard-wood floors, and has lots of sun light. Really nice atmosphere. Roommates are young professionals or Masters students from different nationalities. Wifi access.</td>\n",
       "      <td>NaN</td>\n",
       "      <td>Nice single room in the best area of Madrid. The apartment is fully furnished, hard-wood floors, and has lots of sun light. Really nice atmosphere. Roommates are young professionals or Masters students from different nationalities. Wifi access.</td>\n",
       "      <td>none</td>\n",
       "      <td>NaN</td>\n",
       "      <td>NaN</td>\n",
       "      <td>NaN</td>\n",
       "      <td>NaN</td>\n",
       "      <td>NaN</td>\n",
       "      <td>NaN</td>\n",
       "      <td>https://a0.muscache.com/im/pictures/59706828/afecc7d6_original.jpg?aki_policy=small</td>\n",
       "      <td>https://a0.muscache.com/im/pictures/59706828/afecc7d6_original.jpg?aki_policy=medium</td>\n",
       "      <td>https://public.opendatasoft.com/api/v2/catalog/datasets/airbnb-listings/files/058998a025eee4dec7b508f509fb20d6</td>\n",
       "      <td>https://a0.muscache.com/im/pictures/59706828/afecc7d6_original.jpg?aki_policy=x_large</td>\n",
       "      <td>3511249</td>\n",
       "      <td>https://www.airbnb.com/users/show/3511249</td>\n",
       "      <td>Regina</td>\n",
       "      <td>2012-09-08</td>\n",
       "      <td>Madrid, Community of Madrid, Spain</td>\n",
       "      <td>I am from Spain but I have lived abroad for many years. I still travel a lot.</td>\n",
       "      <td>within an hour</td>\n",
       "      <td>100.0</td>\n",
       "      <td>NaN</td>\n",
       "      <td>https://a0.muscache.com/im/users/3511249/profile_pic/1347147921/original.jpg?aki_policy=profile_small</td>\n",
       "      <td>https://a0.muscache.com/im/users/3511249/profile_pic/1347147921/original.jpg?aki_policy=profile_x_medium</td>\n",
       "      <td>Recoletos</td>\n",
       "      <td>8.0</td>\n",
       "      <td>8.0</td>\n",
       "      <td>email,phone,reviews</td>\n",
       "      <td>Recoletos, Madrid, Comunidad de Madrid 28001, Spain</td>\n",
       "      <td>Recoletos</td>\n",
       "      <td>Recoletos</td>\n",
       "      <td>Salamanca</td>\n",
       "      <td>Madrid</td>\n",
       "      <td>Comunidad de Madrid</td>\n",
       "      <td>28001</td>\n",
       "      <td>Madrid</td>\n",
       "      <td>Madrid, Spain</td>\n",
       "      <td>ES</td>\n",
       "      <td>Spain</td>\n",
       "      <td>40.427454</td>\n",
       "      <td>-3.685763</td>\n",
       "      <td>Apartment</td>\n",
       "      <td>Private room</td>\n",
       "      <td>1</td>\n",
       "      <td>1.0</td>\n",
       "      <td>1.0</td>\n",
       "      <td>1.0</td>\n",
       "      <td>Real Bed</td>\n",
       "      <td>Internet,Wireless Internet,Kitchen,Doorman,Elevator in building,Buzzer/wireless intercom,Heating,Washer,Fire extinguisher,translation missing: en.hosting_amenity_49,translation missing: en.hosting_amenity_50</td>\n",
       "      <td>NaN</td>\n",
       "      <td>26.0</td>\n",
       "      <td>NaN</td>\n",
       "      <td>NaN</td>\n",
       "      <td>NaN</td>\n",
       "      <td>NaN</td>\n",
       "      <td>1</td>\n",
       "      <td>0</td>\n",
       "      <td>7</td>\n",
       "      <td>1125</td>\n",
       "      <td>4 weeks ago</td>\n",
       "      <td>NaN</td>\n",
       "      <td>14</td>\n",
       "      <td>37</td>\n",
       "      <td>59</td>\n",
       "      <td>334</td>\n",
       "      <td>2017-04-08</td>\n",
       "      <td>15</td>\n",
       "      <td>2015-02-05</td>\n",
       "      <td>2016-11-05</td>\n",
       "      <td>95.0</td>\n",
       "      <td>10.0</td>\n",
       "      <td>9.0</td>\n",
       "      <td>10.0</td>\n",
       "      <td>10.0</td>\n",
       "      <td>10.0</td>\n",
       "      <td>9.0</td>\n",
       "      <td>NaN</td>\n",
       "      <td>NaN</td>\n",
       "      <td>strict</td>\n",
       "      <td>7.0</td>\n",
       "      <td>0.57</td>\n",
       "      <td>40.4274544347,-3.68576302323</td>\n",
       "      <td>Host Has Profile Pic,Is Location Exact,Requires License</td>\n",
       "    </tr>\n",
       "    <tr>\n",
       "      <th>44</th>\n",
       "      <td>15332216</td>\n",
       "      <td>https://www.airbnb.com/rooms/15332216</td>\n",
       "      <td>20170407214119</td>\n",
       "      <td>2017-04-08</td>\n",
       "      <td>Deluxe Apartment in Barrio Salamanca (next to IE)</td>\n",
       "      <td>Located in the heart of Barrio de Salamanca. Surrounded by TOP luxury shops of Madrid (Louis Vuitton, Chanel, Hermes), the most famous restaurants and just a few minutes walk from Retiro Park. Very safe, commercial, and the most glamorous of Madrid.</td>\n",
       "      <td>- Apartment of 68 square meters, modern building with elevator - Interior, quiet and peaceful - 135 cm double bed - The room measures 5,76 m2 - Maximum people capacity: 4 (2 in a private room) and 2 in the living room with a Sofa Bed</td>\n",
       "      <td>Located in the heart of Barrio de Salamanca. Surrounded by TOP luxury shops of Madrid (Louis Vuitton, Chanel, Hermes), the most famous restaurants and just a few minutes walk from Retiro Park. Very safe, commercial, and the most glamorous of Madrid. - Apartment of 68 square meters, modern building with elevator - Interior, quiet and peaceful - 135 cm double bed - The room measures 5,76 m2 - Maximum people capacity: 4 (2 in a private room) and 2 in the living room with a Sofa Bed - The appartment is fully clean and equipped - Sheets and towels included - Equipped kitchen (washing machine, refrigerator, microwave, dishes) - Bathroom with shower (soap and amenities) - Wireless high-speed Internet access - Central building in summer (- September June) air conditioning - Central heating the building in winter (September to May) - Since the arrival to departure I will be permanently contactable in case any help or assistance is needed Located in the heart of Salamanca district on Claudio Coe</td>\n",
       "      <td>none</td>\n",
       "      <td>Located in the heart of Salamanca district on Claudio Coello Street. The hallmark of the shops located in this neighborhood is elegance and luxury. Here we can find the boutiques of the most prestigious designers, both national and international firms. Haute couture, the best shoe shop, accessories, jewelry and world-class watches. Surrounded by most of the famous restaurants and just a few minutes walk from Retiro Park. Safe, commercial, and the most glamorous of Madrid. Very well connected to the rest of the city by metro (Serrano), just 5 minutes walk away, and Renfe (Recoletos), also by many bus lines.</td>\n",
       "      <td>- Subway station SERRANO (2 min) - Instituto de Empresa IE Business School (5 min) - Retiro Park &amp; Puerta de Alcala (10 min); - Airport 20 min by taxi or 30 min direct by subway</td>\n",
       "      <td>- It has several subway lines very close: - Serrano Metro (line 4). - Metro Nunez de Balboa (lines 5 and 9) - Velazquez Metro (line 4) - It also has Recoletos station nearby, just 10 minutes walk. - There are more than 15 bus lines near, connecting with all of Madrid.</td>\n",
       "      <td>- The appartment is fully clean and equipped - Sheets and towels included - Equipped kitchen (washing machine, refrigerator, microwave, dishes) - Bathroom with shower (soap and amenities) - Wireless high-speed Internet access - Central building in summer (- September June) air conditioning - Central heating the building in winter (September to May)</td>\n",
       "      <td>- Since the arrival to departure I will be permanently contactable in case any help or assistance is needed</td>\n",
       "      <td>NaN</td>\n",
       "      <td>https://a0.muscache.com/im/pictures/20e6f47e-2a1d-47ea-a814-d02e38efe8ca.jpg?aki_policy=small</td>\n",
       "      <td>https://a0.muscache.com/im/pictures/20e6f47e-2a1d-47ea-a814-d02e38efe8ca.jpg?aki_policy=medium</td>\n",
       "      <td>https://public.opendatasoft.com/api/v2/catalog/datasets/airbnb-listings/files/2bc13c09f3624926701df0b2abcd0bba</td>\n",
       "      <td>https://a0.muscache.com/im/pictures/20e6f47e-2a1d-47ea-a814-d02e38efe8ca.jpg?aki_policy=x_large</td>\n",
       "      <td>10812091</td>\n",
       "      <td>https://www.airbnb.com/users/show/10812091</td>\n",
       "      <td>Juan</td>\n",
       "      <td>2013-12-25</td>\n",
       "      <td>Madrid, Community of Madrid, Spain</td>\n",
       "      <td>NaN</td>\n",
       "      <td>within an hour</td>\n",
       "      <td>100.0</td>\n",
       "      <td>NaN</td>\n",
       "      <td>https://a0.muscache.com/im/pictures/0f0f7923-e875-4bf2-a50d-f57a723ecaa9.jpg?aki_policy=profile_small</td>\n",
       "      <td>https://a0.muscache.com/im/pictures/0f0f7923-e875-4bf2-a50d-f57a723ecaa9.jpg?aki_policy=profile_x_medium</td>\n",
       "      <td>Recoletos</td>\n",
       "      <td>2.0</td>\n",
       "      <td>2.0</td>\n",
       "      <td>email,phone,linkedin,reviews,jumio</td>\n",
       "      <td>Recoletos, Madrid, Comunidad de Madrid 28001, Spain</td>\n",
       "      <td>Recoletos</td>\n",
       "      <td>Recoletos</td>\n",
       "      <td>Salamanca</td>\n",
       "      <td>Madrid</td>\n",
       "      <td>Comunidad de Madrid</td>\n",
       "      <td>28001</td>\n",
       "      <td>Madrid</td>\n",
       "      <td>Madrid, Spain</td>\n",
       "      <td>ES</td>\n",
       "      <td>Spain</td>\n",
       "      <td>40.428671</td>\n",
       "      <td>-3.685423</td>\n",
       "      <td>Apartment</td>\n",
       "      <td>Entire home/apt</td>\n",
       "      <td>6</td>\n",
       "      <td>1.0</td>\n",
       "      <td>2.0</td>\n",
       "      <td>3.0</td>\n",
       "      <td>Real Bed</td>\n",
       "      <td>TV,Internet,Wireless Internet,Air conditioning,Kitchen,Doorman,Elevator in building,Buzzer/wireless intercom,Heating,Family/kid friendly,Washer,Smoke detector,First aid kit,Safety card,Fire extinguisher,Essentials,Shampoo,24-hour check-in,Hangers,Iron,Laptop friendly workspace</td>\n",
       "      <td>NaN</td>\n",
       "      <td>70.0</td>\n",
       "      <td>NaN</td>\n",
       "      <td>NaN</td>\n",
       "      <td>NaN</td>\n",
       "      <td>20.0</td>\n",
       "      <td>1</td>\n",
       "      <td>10</td>\n",
       "      <td>2</td>\n",
       "      <td>1125</td>\n",
       "      <td>5 weeks ago</td>\n",
       "      <td>NaN</td>\n",
       "      <td>0</td>\n",
       "      <td>0</td>\n",
       "      <td>0</td>\n",
       "      <td>52</td>\n",
       "      <td>2017-04-08</td>\n",
       "      <td>0</td>\n",
       "      <td>NaN</td>\n",
       "      <td>NaN</td>\n",
       "      <td>NaN</td>\n",
       "      <td>NaN</td>\n",
       "      <td>NaN</td>\n",
       "      <td>NaN</td>\n",
       "      <td>NaN</td>\n",
       "      <td>NaN</td>\n",
       "      <td>NaN</td>\n",
       "      <td>NaN</td>\n",
       "      <td>NaN</td>\n",
       "      <td>moderate</td>\n",
       "      <td>2.0</td>\n",
       "      <td>NaN</td>\n",
       "      <td>40.4286708577,-3.68542275712</td>\n",
       "      <td>Host Has Profile Pic,Host Identity Verified,Is Location Exact,Requires License</td>\n",
       "    </tr>\n",
       "  </tbody>\n",
       "</table>\n",
       "</div>"
      ],
      "text/plain": [
       "          ID                            Listing Url       Scrape ID  \\\n",
       "40  6478626   https://www.airbnb.com/rooms/6478626   20170407214119   \n",
       "41  4941335   https://www.airbnb.com/rooms/4941335   20170407214119   \n",
       "42  12510355  https://www.airbnb.com/rooms/12510355  20170407214119   \n",
       "43  4756811   https://www.airbnb.com/rooms/4756811   20170407214119   \n",
       "44  15332216  https://www.airbnb.com/rooms/15332216  20170407214119   \n",
       "\n",
       "   Last Scraped                                               Name  \\\n",
       "40  2017-04-08   Habitación con baño .                               \n",
       "41  2017-04-08   Cómodo estudio en la calle Goya                     \n",
       "42  2017-04-08   Studio & Terrace - Barrio Salamanca                 \n",
       "43  2017-04-08   Cute single room -private bathroom                  \n",
       "44  2017-04-08   Deluxe Apartment in Barrio Salamanca (next to IE)   \n",
       "\n",
       "                                                                                                                                                                                                                                                       Summary  \\\n",
       "40  Habitación con cama de 150 ,  para una o dos personas , tiene un baño propio , tranquilo , la zona esta muy bien , cerca del centro , con autobuses , taxi y metro de conde de Casal abajo de casa ., cerca del parque del retiro .                          \n",
       "41  Bonito estudio en el barrio comercial y financiero de Madrid, excelentemente comunicado por transporte público y con el aeropuerto, con todas las comodidades para relajarte después de un día de turismo o de trabajo. Colchón y almohadas viscoelásticas   \n",
       "42  Bright and refurbished studio, located in one of the best neighborhoods of Madrid, with an amazing terrace where you can relax and enjoy the sun. The studio has a double bed, a bed-sofa, 1 full equiped bathroom and kitchen.                              \n",
       "43  Nice single room in the best area of Madrid. The apartment is fully furnished, hard-wood floors, and has lots of sun light. Really nice atmosphere. Roommates are young professionals or Masters students from different nationalities. Wifi access.         \n",
       "44  Located in the heart of Barrio de Salamanca. Surrounded by TOP luxury shops of Madrid (Louis Vuitton, Chanel, Hermes), the most famous restaurants and just a few minutes walk from Retiro Park. Very safe, commercial, and the most glamorous of Madrid.    \n",
       "\n",
       "                                                                                                                                                                                                                                                                                                                                                                                                                                                                                                                                                                                                                                                                                   Space  \\\n",
       "40  Tranquilidad y respeto del espacio room with bathroom equipped with a 150 Cm bed for one or two person. per night. Located in a very good and quite area close to downtown. Bus, taxy or metro (Conde de Casal Station) well connected. The metro station is just in front of the main entrance.                                                                                                                                                                                                                                                                                                                                                                                       \n",
       "41  Este estudio, regentado por Marta y Marcos, ha sido preparado para ofrecerte todas las comodidades. Con el metro en la puerta y el Parque de El Retiro a tres minutos, podrás disfrutar de las zonas más turísticas de Madrid sin ninguna complicación, y si vienes por viaje de trabajo te encontrarás en el barrio financiero y de oficinas de Madrid, y perfectamente comunicado con metro, autobuses y con una parada de taxis enfrente. Si vienes en avión, el autobús que te trae del aeropuerto te dejará a cinco minutos. Al regresar de un ajetreado día, ya sea por turismo o por trabajo, podrás disfrutar de todas las comodidades que hemos intentado preparar para ti.   \n",
       "42  Bright and refurbished studio, located in one of the best neighborhoods of Madrid, with an amazing terrace where you can relax and enjoy the sun. The studio has a double bed, a bed-sofa, 1 full equiped bathroom and kitchen.                                                                                                                                                                                                                                                                                                                                                                                                                                                        \n",
       "43  NaN                                                                                                                                                                                                                                                                                                                                                                                                                                                                                                                                                                                                                                                                                    \n",
       "44  - Apartment of 68 square meters, modern building with elevator - Interior, quiet and peaceful - 135 cm double bed - The room measures 5,76 m2 - Maximum people capacity: 4 (2 in a private room) and 2 in the living room with a Sofa Bed                                                                                                                                                                                                                                                                                                                                                                                                                                              \n",
       "\n",
       "                                                                                                                                                                                                                                                                                                                                                                                                                                                                                                                                                                                                                                                                                                                                                                                                                                                                                                                                                                                                                                 Description  \\\n",
       "40  Habitación con cama de 150 ,  para una o dos personas , tiene un baño propio , tranquilo , la zona esta muy bien , cerca del centro , con autobuses , taxi y metro de conde de Casal abajo de casa ., cerca del parque del retiro . Tranquilidad y respeto del espacio room with bathroom equipped with a 150 Cm bed for one or two person. per night. Located in a very good and quite area close to downtown. Bus, taxy or metro (Conde de Casal Station) well connected. The metro station is just in front of the main entrance. Pueden usar la nevera , microondas , wifi . Cualquier cosa Q necesiten estaremos para ayudarles Barrio muy bien comunicado , metro , autobús , taxi , abajo de casa , súper mercados , tiendas , bares , restaurantes , farmacia todo muy cerca . Metro conde de Casal abajo de casa . Líneas de autobuses hacia el centro . Base de taxi .                                                                                                                                                           \n",
       "41  Bonito estudio en el barrio comercial y financiero de Madrid, excelentemente comunicado por transporte público y con el aeropuerto, con todas las comodidades para relajarte después de un día de turismo o de trabajo. Colchón y almohadas viscoelásticas Este estudio, regentado por Marta y Marcos, ha sido preparado para ofrecerte todas las comodidades. Con el metro en la puerta y el Parque de El Retiro a tres minutos, podrás disfrutar de las zonas más turísticas de Madrid sin ninguna complicación, y si vienes por viaje de trabajo te encontrarás en el barrio financiero y de oficinas de Madrid, y perfectamente comunicado con metro, autobuses y con una parada de taxis enfrente. Si vienes en avión, el autobús que te trae del aeropuerto te dejará a cinco minutos. Al regresar de un ajetreado día, ya sea por turismo o por trabajo, podrás disfrutar de todas las comodidades que hemos intentado preparar para ti.  En dos agradables sillones puedes tomar un café, usar tu portátil (adsl wi-fi gratuito)   \n",
       "42  Bright and refurbished studio, located in one of the best neighborhoods of Madrid, with an amazing terrace where you can relax and enjoy the sun. The studio has a double bed, a bed-sofa, 1 full equiped bathroom and kitchen. Bright and refurbished studio, located in one of the best neighborhoods of Madrid, with an amazing terrace where you can relax and enjoy the sun. The studio has a double bed, a bed-sofa, 1 full equiped bathroom and kitchen. During the stay, guests have access to the entire house. You can use all the apartment. You can use the kitchen and everything you will find in it.  The apartment is provided with linens adn towels for all guests, so you do not need to worry about that. In the bathroom you will find everything as if you are in the hotel of 5 stars: shampoo and shower gel, liquid soap are waiting for you. It's no need you bring all this with you. The apartment has been furnished with all the necessary appliances to ensure a comfortable and great stay. The house in   \n",
       "43  Nice single room in the best area of Madrid. The apartment is fully furnished, hard-wood floors, and has lots of sun light. Really nice atmosphere. Roommates are young professionals or Masters students from different nationalities. Wifi access.                                                                                                                                                                                                                                                                                                                                                                                                                                                                                                                                                                                                                                                                                                                                                                                       \n",
       "44  Located in the heart of Barrio de Salamanca. Surrounded by TOP luxury shops of Madrid (Louis Vuitton, Chanel, Hermes), the most famous restaurants and just a few minutes walk from Retiro Park. Very safe, commercial, and the most glamorous of Madrid. - Apartment of 68 square meters, modern building with elevator - Interior, quiet and peaceful - 135 cm double bed - The room measures 5,76 m2 - Maximum people capacity: 4 (2 in a private room) and 2 in the living room with a Sofa Bed - The appartment is fully clean and equipped - Sheets and towels included - Equipped kitchen (washing machine, refrigerator, microwave, dishes) - Bathroom with shower (soap and amenities) - Wireless high-speed Internet access - Central building in summer (- September June) air conditioning - Central heating the building in winter (September to May) - Since the arrival to departure I will be permanently contactable in case any help or assistance is needed Located in the heart of Salamanca district on Claudio Coe   \n",
       "\n",
       "   Experiences Offered  \\\n",
       "40  none                 \n",
       "41  none                 \n",
       "42  none                 \n",
       "43  none                 \n",
       "44  none                 \n",
       "\n",
       "                                                                                                                                                                                                                                                                                                                                                                                                                                                                                                                                                                                                                                                                                                                                                                                                                                                                                                                                                                                                                       Neighborhood Overview  \\\n",
       "40  Barrio muy bien comunicado , metro , autobús , taxi , abajo de casa , súper mercados , tiendas , bares , restaurantes , farmacia todo muy cerca .                                                                                                                                                                                                                                                                                                                                                                                                                                                                                                                                                                                                                                                                                                                                                                                                                                                                                          \n",
       "41  NaN                                                                                                                                                                                                                                                                                                                                                                                                                                                                                                                                                                                                                                                                                                                                                                                                                                                                                                                                                                                                                                        \n",
       "42  The Studio is located in a quiet street, in the famous neighborhood Barrio de Salamanca, and really close from El Corte Inglés situated in Serrano.  Barrio de Salamanca, is one of the most coveted and elegant areas of central Madrid. Considered an area designed in the past to the nobility. In the Golden Mile. Located between streets of great importance such as Serrano, Ortega y Gasset and Velazquez, where safety, good communication of its streets with the rest of the city and services offered, make it one of the best places to spend a great stay in the Spanish capital. In the Barrio de Salamanca the best and most glamorous firms are concentrated. It is one of the districts with higher living standards at European level and has the best luxury hopping in Madrid. Boutiques like Gucci, Channel, Carolina Herrera or some of the most prestigious jewelers and art galleries are found in the area. Dining is varied. In the Barrio de Salamanca we can enjoy the most select and exclusive restaurant   \n",
       "43  NaN                                                                                                                                                                                                                                                                                                                                                                                                                                                                                                                                                                                                                                                                                                                                                                                                                                                                                                                                                                                                                                        \n",
       "44  Located in the heart of Salamanca district on Claudio Coello Street. The hallmark of the shops located in this neighborhood is elegance and luxury. Here we can find the boutiques of the most prestigious designers, both national and international firms. Haute couture, the best shoe shop, accessories, jewelry and world-class watches. Surrounded by most of the famous restaurants and just a few minutes walk from Retiro Park. Safe, commercial, and the most glamorous of Madrid. Very well connected to the rest of the city by metro (Serrano), just 5 minutes walk away, and Renfe (Recoletos), also by many bus lines.                                                                                                                                                                                                                                                                                                                                                                                                      \n",
       "\n",
       "                                                                                                                                                                                                                                                                                                                                                                                                                                                                                                                                                                                                                  Notes  \\\n",
       "40  NaN                                                                                                                                                                                                                                                                                                                                                                                                                                                                                                                                                                                                                   \n",
       "41  NaN                                                                                                                                                                                                                                                                                                                                                                                                                                                                                                                                                                                                                   \n",
       "42  Check in time is at 3pm or later, although sometimes I may manage to let you in before, so just ask. If you arrive later than 11pm there will be a small late check-in fee of 15€ to be paid at arrival. The front door is self-locking. Please do not leave the keys in the apartment while you are still in the city. Upon checkout, please just leave the keys on the living room table and  close the door behind you. The checkout time is anytime before 12pm unless you have agreed to checkout at a different time in advance. Our housekeeper will usually come at 12pm, in which case, please let her in!   \n",
       "43  NaN                                                                                                                                                                                                                                                                                                                                                                                                                                                                                                                                                                                                                   \n",
       "44  - Subway station SERRANO (2 min) - Instituto de Empresa IE Business School (5 min) - Retiro Park & Puerta de Alcala (10 min); - Airport 20 min by taxi or 30 min direct by subway                                                                                                                                                                                                                                                                                                                                                                                                                                     \n",
       "\n",
       "                                                                                                                                                                                                                                                                                                                                                                                                                                                                                                                                                                                                                                                                                                                                                                                                                                                                                                                                                                                                             Transit  \\\n",
       "40  Metro conde de Casal abajo de casa . Líneas de autobuses hacia el centro . Base de taxi .                                                                                                                                                                                                                                                                                                                                                                                                                                                                                                                                                                                                                                                                                                                                                                                                                                                                                                                          \n",
       "41  NaN                                                                                                                                                                                                                                                                                                                                                                                                                                                                                                                                                                                                                                                                                                                                                                                                                                                                                                                                                                                                                \n",
       "42  PUBLIC TRANSPORT Subway/Metro station Serrano (line 4) Subway/Metro station Velázquez (line 4) Subway/Metro station Colón (line 4) HOW TO ARRIVE FROM THE AIRPORT - Subway/Metro (30 minutes aprox and 4,50€) At the airport take line 8 to Nuevos Ministerios In N.Ministerios take line 10 to Alonso Martínez. In A.Martínez take line 4 to Serrano. Walk to the apartment (290 metres and 3 minutes) -Taxi ( 30€ and 25 minutes) - Aerocity/Airport Shuttle:  25 minutes and around 25€ for 4 people. HOW TO ARRIVE FROM ATOCHA STATION - Subway/Metro (18 minutes aprox and 1,50€) In Atocha take line 1 to Bilbao. In Bilbao transfer to line 4 to Serrano. Walk to the apartment (290metres and 3 miutes) - Taxi (around 10 minutes and 10€) HOW TO ARRIVE FROM CHAMARTÍN STATION - Subway/Metro ( 18 minutes aprox and 1,50€) In Chamartín take line 10 to Alonso Martínez In A.Martínez transfer to line 4 to Serrano. Walk to the apartment (290metres and 3 miutes) - Taxi (around 10 minutes and 10€)   \n",
       "43  NaN                                                                                                                                                                                                                                                                                                                                                                                                                                                                                                                                                                                                                                                                                                                                                                                                                                                                                                                                                                                                                \n",
       "44  - It has several subway lines very close: - Serrano Metro (line 4). - Metro Nunez de Balboa (lines 5 and 9) - Velazquez Metro (line 4) - It also has Recoletos station nearby, just 10 minutes walk. - There are more than 15 bus lines near, connecting with all of Madrid.                                                                                                                                                                                                                                                                                                                                                                                                                                                                                                                                                                                                                                                                                                                                       \n",
       "\n",
       "                                                                                                                                                                                                                                                                                                                                                                                                                                                                                                                                                                                                                                                                                                                                                                                                                                                                                                                                                                                                                                      Access  \\\n",
       "40  Pueden usar la nevera , microondas , wifi .                                                                                                                                                                                                                                                                                                                                                                                                                                                                                                                                                                                                                                                                                                                                                                                                                                                                                                                                                                                                \n",
       "41  En dos agradables sillones puedes tomar un café, usar tu portátil (adsl wi-fi gratuito) o ver la televisión. Pero también podrás ver la tele desde la cama, y aquí está lo que nos parece más importante. A nosotros nos gusta mucho dormir, y cuando viajamos creemos que es esencial hacerlo cómodamente. Por eso, tanto el colchón (de 1,35) como las almohadas son de viscoelástica.  La cocina está equipada para que no tengas que comer fuera de casa si no quieres. Y si tu estancia va a ser larga, no es necesario que traigas una maleta enorme, puesto que dispones de lavadora (te dejamos detergente y suavizante) y plancha. Y si eres de los que te gusta tomar un baño, no querrás salir de la amplísima bañera, en la que el agua caliente centralizada hará que puedas conseguir el agua tan caliente como quieras. Te proporcionamos gel, champú, toallas y secador de pelo, para que no tengas que traerlo. Y por último, la calefacción central en invierno y el aire acondicionado en verano conseguirán que te s   \n",
       "42  During the stay, guests have access to the entire house. You can use all the apartment. You can use the kitchen and everything you will find in it.  The apartment is provided with linens adn towels for all guests, so you do not need to worry about that. In the bathroom you will find everything as if you are in the hotel of 5 stars: shampoo and shower gel, liquid soap are waiting for you. It's no need you bring all this with you. The apartment has been furnished with all the necessary appliances to ensure a comfortable and great stay. The house includes, among others: - Heating - Air conditioner - Wifi - Flat screen TV - Full equipped kitchen (oven, microwave, coffe maker, fridge & freezer...) - Washer - Natural light in all rooms - Lift in the building - Intercom - Hangers in closets - Linens & 2 towels per guest - Check-in at any time - Property Guide with tips of the neighborhood and Madrid - Attention during the stay in case of any incident.                                             \n",
       "43  NaN                                                                                                                                                                                                                                                                                                                                                                                                                                                                                                                                                                                                                                                                                                                                                                                                                                                                                                                                                                                                                                        \n",
       "44  - The appartment is fully clean and equipped - Sheets and towels included - Equipped kitchen (washing machine, refrigerator, microwave, dishes) - Bathroom with shower (soap and amenities) - Wireless high-speed Internet access - Central building in summer (- September June) air conditioning - Central heating the building in winter (September to May)                                                                                                                                                                                                                                                                                                                                                                                                                                                                                                                                                                                                                                                                             \n",
       "\n",
       "                                                                                                                                                                                                                                                                                                                                                                                                                                           Interaction  \\\n",
       "40  Cualquier cosa Q necesiten estaremos para ayudarles                                                                                                                                                                                                                                                                                                                                                                                                  \n",
       "41  Te atenderemos en todo lo que necesites. Marta o Marcos te recibiremos a tu llegada y te despediremos a tu salida, y estaremos pendientes de que estés a gusto en todo momento.                                                                                                                                                                                                                                                                      \n",
       "42  Guests can expect access to any information / recommendation on the city and help in anything that is available at all times from the beginning of their book to the end of the stay. Guests decide how I and my team will be able to help him. My friends at Minty Host help me manage my apartment as I am usually out of the city. They will make your stay a perfect stay. They will welcome you and be available for anything you might need.   \n",
       "43  NaN                                                                                                                                                                                                                                                                                                                                                                                                                                                  \n",
       "44  - Since the arrival to departure I will be permanently contactable in case any help or assistance is needed                                                                                                                                                                                                                                                                                                                                          \n",
       "\n",
       "                                                                                                                                                                                                                                                                                                                                                                                                                                                                                                                                                                                                          House Rules  \\\n",
       "40  Si son fumadores podéis  fumar en un patio Q hay en la cocina , en el resto del apartamento no .                                                                                                                                                                                                                                                                                                                                                                                                                                                                                                                    \n",
       "41  No se permite fumar. El estudio está acondicionado para dos personas, por lo que no se admiten huéspedes adicionales, excepto bebés (no disponemos de cuna). No se permiten actividades incómodas, molestas o insalubres para el resto de los vecinos, en particular celebrar fiestas o hacer ruidos altos por la noche (roncar sí está permitido). La Comunidad de Madrid exige la separación de residuos para su posterior reciclaje. Te indicaremos cómo hacerlo a tu llegada. El conserje de la comunidad recogerá  las bolsas en la puerta en el horario indicado.                                             \n",
       "42  SPANISH: - No se permiten fiestas ni reuniones de muchas personas en el apartamento. - No se permite ruído elevado, especialmente a partir de las 23h entre semana ó 24h los fines de semana. - No se admiten mascotas - No se permite fumar - Sacar la basura cuando sea necesario, por favor no la acumules en la vivienda durante la estancia ENGLISH: - No parties and gatherings of many people allowed in the apartment. - No loud noise, especially from 23h. - No pets allowed - Smoking is not allowed - Take out the trash when necessary. Please do not accumulate it in the apartment during the stay   \n",
       "43  NaN                                                                                                                                                                                                                                                                                                                                                                                                                                                                                                                                                                                                                 \n",
       "44  NaN                                                                                                                                                                                                                                                                                                                                                                                                                                                                                                                                                                                                                 \n",
       "\n",
       "                                                                                    Thumbnail Url  \\\n",
       "40  https://a0.muscache.com/im/pictures/86864154/1356abbf_original.jpg?aki_policy=small             \n",
       "41  https://a0.muscache.com/im/pictures/69897767/28e73423_original.jpg?aki_policy=small             \n",
       "42  https://a0.muscache.com/im/pictures/dbcf7393-bb26-40af-ab91-aaf50ef7b380.jpg?aki_policy=small   \n",
       "43  https://a0.muscache.com/im/pictures/59706828/afecc7d6_original.jpg?aki_policy=small             \n",
       "44  https://a0.muscache.com/im/pictures/20e6f47e-2a1d-47ea-a814-d02e38efe8ca.jpg?aki_policy=small   \n",
       "\n",
       "                                                                                        Medium Url  \\\n",
       "40  https://a0.muscache.com/im/pictures/86864154/1356abbf_original.jpg?aki_policy=medium             \n",
       "41  https://a0.muscache.com/im/pictures/69897767/28e73423_original.jpg?aki_policy=medium             \n",
       "42  https://a0.muscache.com/im/pictures/dbcf7393-bb26-40af-ab91-aaf50ef7b380.jpg?aki_policy=medium   \n",
       "43  https://a0.muscache.com/im/pictures/59706828/afecc7d6_original.jpg?aki_policy=medium             \n",
       "44  https://a0.muscache.com/im/pictures/20e6f47e-2a1d-47ea-a814-d02e38efe8ca.jpg?aki_policy=medium   \n",
       "\n",
       "                                                                                                       Picture Url  \\\n",
       "40  https://public.opendatasoft.com/api/v2/catalog/datasets/airbnb-listings/files/04b47ccd1610a1c42e0e79e55c0d5897   \n",
       "41  https://public.opendatasoft.com/api/v2/catalog/datasets/airbnb-listings/files/4a66372ed2f39613c83c2607df65a7b8   \n",
       "42  https://public.opendatasoft.com/api/v2/catalog/datasets/airbnb-listings/files/461ed1beb9f0467513d0b8614b9e3d93   \n",
       "43  https://public.opendatasoft.com/api/v2/catalog/datasets/airbnb-listings/files/058998a025eee4dec7b508f509fb20d6   \n",
       "44  https://public.opendatasoft.com/api/v2/catalog/datasets/airbnb-listings/files/2bc13c09f3624926701df0b2abcd0bba   \n",
       "\n",
       "                                                                                     XL Picture Url  \\\n",
       "40  https://a0.muscache.com/im/pictures/86864154/1356abbf_original.jpg?aki_policy=x_large             \n",
       "41  https://a0.muscache.com/im/pictures/69897767/28e73423_original.jpg?aki_policy=x_large             \n",
       "42  https://a0.muscache.com/im/pictures/dbcf7393-bb26-40af-ab91-aaf50ef7b380.jpg?aki_policy=x_large   \n",
       "43  https://a0.muscache.com/im/pictures/59706828/afecc7d6_original.jpg?aki_policy=x_large             \n",
       "44  https://a0.muscache.com/im/pictures/20e6f47e-2a1d-47ea-a814-d02e38efe8ca.jpg?aki_policy=x_large   \n",
       "\n",
       "     Host ID                                    Host URL  \\\n",
       "40  25709853  https://www.airbnb.com/users/show/25709853   \n",
       "41  25465787  https://www.airbnb.com/users/show/25465787   \n",
       "42  67750039  https://www.airbnb.com/users/show/67750039   \n",
       "43  3511249   https://www.airbnb.com/users/show/3511249    \n",
       "44  10812091  https://www.airbnb.com/users/show/10812091   \n",
       "\n",
       "                      Host Name  Host Since  \\\n",
       "40  Vílma                        2015-01-06   \n",
       "41  Marta                        2015-01-01   \n",
       "42  Comunicaciones Waterloo S.L  2016-04-18   \n",
       "43  Regina                       2012-09-08   \n",
       "44  Juan                         2013-12-25   \n",
       "\n",
       "                         Host Location  \\\n",
       "40  Madrid, Community of Madrid, Spain   \n",
       "41  Madrid, Community of Madrid, Spain   \n",
       "42  ES                                   \n",
       "43  Madrid, Community of Madrid, Spain   \n",
       "44  Madrid, Community of Madrid, Spain   \n",
       "\n",
       "                                                                                                                                                                                                                                                                                                                                                                                                                                                                                                                                                                                                                                                                                                                                                                                                                                                                                                                                                                                                                                                                                                                                                                                                                                                                                                                                                                                                                                                                                                                                                                                                                                                                                                                                                                                                                                                                                                                                                                                                                                                    Host About  \\\n",
       "40  NaN                                                                                                                                                                                                                                                                                                                                                                                                                                                                                                                                                                                                                                                                                                                                                                                                                                                                                                                                                                                                                                                                                                                                                                                                                                                                                                                                                                                                                                                                                                                                                                                                                                                                                                                                                                                                                                                                                                                                                                                                                                                          \n",
       "41  NaN                                                                                                                                                                                                                                                                                                                                                                                                                                                                                                                                                                                                                                                                                                                                                                                                                                                                                                                                                                                                                                                                                                                                                                                                                                                                                                                                                                                                                                                                                                                                                                                                                                                                                                                                                                                                                                                                                                                                                                                                                                                          \n",
       "42  Hi! \\r\\n\\r\\nI travel a lot - for work and - the best part - also for pleasure. I love meeting new people, tasting new food, experiencing new cultures. I have lived in different countries and continents so traveling is very much part of my DNA as well as my life experience. I have used Airbnb frequently in the past and I am now happy to host fellow travelers.\\r\\n\\r\\nAlthough I´m based in Madrid, I spent most of my time traveling for work, so I have decided to share with you my apartment with its great terrace.\\r\\n\\r\\nBut don't worry, you will be well taken care of when I am not in town thanks to my friends at Minty Host, who are there to help my guests anything they need. On my side, I will be more than happy to share with you the Madrid I love - its main landmarks but also its fantastic restaurants, bright squares, and bustling bars. \\r\\n\\r\\nEnjoy your stay!\\r\\n\\r\\n***\\r\\nHola!\\r\\n\\r\\nSoy una persona curiosa y es lo que me ha llevado a vivir en distintos países, conocer culturas y viajar mucho.\\r\\n\\r\\nVivo en Madrid pero estoy todo el tiempo viajando por motivos de trabajo así que he decidido compartir mi apartamento con vosotros y que disfrutéis su maravillosa terraza. Pero no os preocupéis, estaréis muy bien atendidos ya que mis amigos de Minty Host me ayudan a cuidar a mis huéspedes cuando no estoy en la ciudad.\\r\\n\\r\\nMe encanta viajar y todo tipo de viajes, de ocio y descanso, de turismo, de aventura, a grandes ciudades, pequeños pueblos o lugares salvajes, con familia, amigos o incluso solo. Disfruto mucho conociendo gente y aprendiendo de sus culturas.\\r\\n\\r\\nHe utilizado Airbnb para viajar en numerosas ocasiones y ahora me he decidido a ser anfitrión. Me gusta ofrecer un buen servicio, que la gente quede encantada de la experiencia y que disfruten en la vivienda, del barrio y de la ciudad en la que he vivido gran parte de mi vida y de la que estaré encantado de compartir sus mejores secretos.\\r\\n\\r\\nOs invito a disfrutar de la estancia!   \n",
       "43  I am from Spain but I have lived abroad for many years. I still travel a lot.                                                                                                                                                                                                                                                                                                                                                                                                                                                                                                                                                                                                                                                                                                                                                                                                                                                                                                                                                                                                                                                                                                                                                                                                                                                                                                                                                                                                                                                                                                                                                                                                                                                                                                                                                                                                                                                                                                                                                                                \n",
       "44  NaN                                                                                                                                                                                                                                                                                                                                                                                                                                                                                                                                                                                                                                                                                                                                                                                                                                                                                                                                                                                                                                                                                                                                                                                                                                                                                                                                                                                                                                                                                                                                                                                                                                                                                                                                                                                                                                                                                                                                                                                                                                                          \n",
       "\n",
       "    Host Response Time  Host Response Rate Host Acceptance Rate  \\\n",
       "40  within an hour      84.0                NaN                   \n",
       "41  within a few hours  100.0               NaN                   \n",
       "42  within an hour      100.0               NaN                   \n",
       "43  within an hour      100.0               NaN                   \n",
       "44  within an hour      100.0               NaN                   \n",
       "\n",
       "                                                                                        Host Thumbnail Url  \\\n",
       "40  https://a0.muscache.com/im/users/25709853/profile_pic/1433326196/original.jpg?aki_policy=profile_small   \n",
       "41  https://a0.muscache.com/im/users/25465787/profile_pic/1424568735/original.jpg?aki_policy=profile_small   \n",
       "42  https://a0.muscache.com/im/pictures/bff15a50-2c8e-459b-8b54-10695d2a67f6.jpg?aki_policy=profile_small    \n",
       "43  https://a0.muscache.com/im/users/3511249/profile_pic/1347147921/original.jpg?aki_policy=profile_small    \n",
       "44  https://a0.muscache.com/im/pictures/0f0f7923-e875-4bf2-a50d-f57a723ecaa9.jpg?aki_policy=profile_small    \n",
       "\n",
       "                                                                                             Host Picture Url  \\\n",
       "40  https://a0.muscache.com/im/users/25709853/profile_pic/1433326196/original.jpg?aki_policy=profile_x_medium   \n",
       "41  https://a0.muscache.com/im/users/25465787/profile_pic/1424568735/original.jpg?aki_policy=profile_x_medium   \n",
       "42  https://a0.muscache.com/im/pictures/bff15a50-2c8e-459b-8b54-10695d2a67f6.jpg?aki_policy=profile_x_medium    \n",
       "43  https://a0.muscache.com/im/users/3511249/profile_pic/1347147921/original.jpg?aki_policy=profile_x_medium    \n",
       "44  https://a0.muscache.com/im/pictures/0f0f7923-e875-4bf2-a50d-f57a723ecaa9.jpg?aki_policy=profile_x_medium    \n",
       "\n",
       "   Host Neighbourhood  Host Listings Count  Host Total Listings Count  \\\n",
       "40  NaN                3.0                  3.0                         \n",
       "41  Recoletos          1.0                  1.0                         \n",
       "42  Recoletos          2.0                  2.0                         \n",
       "43  Recoletos          8.0                  8.0                         \n",
       "44  Recoletos          2.0                  2.0                         \n",
       "\n",
       "                         Host Verifications  \\\n",
       "40  email,phone,reviews                       \n",
       "41  email,phone,reviews                       \n",
       "42  email,phone,reviews,jumio,government_id   \n",
       "43  email,phone,reviews                       \n",
       "44  email,phone,linkedin,reviews,jumio        \n",
       "\n",
       "                                                 Street Neighbourhood  \\\n",
       "40  Madrid, Comunidad de Madrid 28007, Spain             NaN            \n",
       "41  Recoletos, Madrid, Comunidad de Madrid 28001, Spain  Recoletos      \n",
       "42  Recoletos, Madrid, Comunidad de Madrid 28001, Spain  Recoletos      \n",
       "43  Recoletos, Madrid, Comunidad de Madrid 28001, Spain  Recoletos      \n",
       "44  Recoletos, Madrid, Comunidad de Madrid 28001, Spain  Recoletos      \n",
       "\n",
       "   Neighbourhood Cleansed Neighbourhood Group Cleansed    City  \\\n",
       "40  Niño Jesús             Retiro                       Madrid   \n",
       "41  Recoletos              Salamanca                    Madrid   \n",
       "42  Recoletos              Salamanca                    Madrid   \n",
       "43  Recoletos              Salamanca                    Madrid   \n",
       "44  Recoletos              Salamanca                    Madrid   \n",
       "\n",
       "                  State Zipcode  Market Smart Location Country Code Country  \\\n",
       "40  Comunidad de Madrid  28007   Madrid  Madrid, Spain  ES           Spain    \n",
       "41  Comunidad de Madrid  28001   Madrid  Madrid, Spain  ES           Spain    \n",
       "42  Comunidad de Madrid  28001   Madrid  Madrid, Spain  ES           Spain    \n",
       "43  Comunidad de Madrid  28001   Madrid  Madrid, Spain  ES           Spain    \n",
       "44  Comunidad de Madrid  28001   Madrid  Madrid, Spain  ES           Spain    \n",
       "\n",
       "     Latitude  Longitude Property Type        Room Type  Accommodates  \\\n",
       "40  40.406953 -3.670894   Apartment     Private room     2              \n",
       "41  40.425904 -3.681647   Apartment     Entire home/apt  2              \n",
       "42  40.428352 -3.687155   Apartment     Entire home/apt  3              \n",
       "43  40.427454 -3.685763   Apartment     Private room     1              \n",
       "44  40.428671 -3.685423   Apartment     Entire home/apt  6              \n",
       "\n",
       "    Bathrooms  Bedrooms  Beds  Bed Type  \\\n",
       "40  2.0        1.0       1.0   Real Bed   \n",
       "41  1.0        0.0       1.0   Real Bed   \n",
       "42  1.0        0.0       2.0   Real Bed   \n",
       "43  1.0        1.0       1.0   Real Bed   \n",
       "44  1.0        2.0       3.0   Real Bed   \n",
       "\n",
       "                                                                                                                                                                                                                                                                                Amenities  \\\n",
       "40  TV,Wireless Internet,Kitchen,Heating,Essentials,Hair dryer,Iron                                                                                                                                                                                                                         \n",
       "41  TV,Internet,Wireless Internet,Air conditioning,Kitchen,Elevator in building,Heating,Family/kid friendly,Washer,First aid kit,Essentials,Shampoo,translation missing: en.hosting_amenity_49                                                                                              \n",
       "42  TV,Internet,Wireless Internet,Air conditioning,Kitchen,Smoking allowed,Elevator in building,Buzzer/wireless intercom,Heating,Family/kid friendly,Washer,Essentials,Shampoo,24-hour check-in,Hangers,Hair dryer,Laptop friendly workspace                                                \n",
       "43  Internet,Wireless Internet,Kitchen,Doorman,Elevator in building,Buzzer/wireless intercom,Heating,Washer,Fire extinguisher,translation missing: en.hosting_amenity_49,translation missing: en.hosting_amenity_50                                                                         \n",
       "44  TV,Internet,Wireless Internet,Air conditioning,Kitchen,Doorman,Elevator in building,Buzzer/wireless intercom,Heating,Family/kid friendly,Washer,Smoke detector,First aid kit,Safety card,Fire extinguisher,Essentials,Shampoo,24-hour check-in,Hangers,Iron,Laptop friendly workspace   \n",
       "\n",
       "    Square Feet  Price  Weekly Price  Monthly Price  Security Deposit  \\\n",
       "40 NaN           28.0  NaN           NaN            NaN                 \n",
       "41 NaN           58.0   371.0         981.0          100.0              \n",
       "42 NaN           70.0  NaN           NaN             150.0              \n",
       "43 NaN           26.0  NaN           NaN            NaN                 \n",
       "44 NaN           70.0  NaN           NaN            NaN                 \n",
       "\n",
       "    Cleaning Fee  Guests Included  Extra People  Minimum Nights  \\\n",
       "40 NaN            1                5             1                \n",
       "41 NaN            1                0             2                \n",
       "42  30.0          2                15            2                \n",
       "43 NaN            1                0             7                \n",
       "44  20.0          1                10            2                \n",
       "\n",
       "    Maximum Nights Calendar Updated Has Availability  Availability 30  \\\n",
       "40  1125            2 weeks ago      NaN              0                 \n",
       "41  1125            6 days ago       NaN              4                 \n",
       "42  1125            today            NaN              7                 \n",
       "43  1125            4 weeks ago      NaN              14                \n",
       "44  1125            5 weeks ago      NaN              0                 \n",
       "\n",
       "    Availability 60  Availability 90  Availability 365 Calendar last Scraped  \\\n",
       "40  3                12               240               2017-04-07             \n",
       "41  9                9                15                2017-04-08             \n",
       "42  15               32               292               2017-04-08             \n",
       "43  37               59               334               2017-04-08             \n",
       "44  0                0                52                2017-04-08             \n",
       "\n",
       "    Number of Reviews First Review Last Review  Review Scores Rating  \\\n",
       "40  171                2015-06-14   2017-03-22  87.0                   \n",
       "41  52                 2015-03-02   2017-02-12  96.0                   \n",
       "42  36                 2016-05-15   2017-04-02  87.0                   \n",
       "43  15                 2015-02-05   2016-11-05  95.0                   \n",
       "44  0                  NaN          NaN        NaN                     \n",
       "\n",
       "    Review Scores Accuracy  Review Scores Cleanliness  Review Scores Checkin  \\\n",
       "40  9.0                     9.0                        9.0                     \n",
       "41  10.0                    10.0                       10.0                    \n",
       "42  9.0                     9.0                        10.0                    \n",
       "43  10.0                    9.0                        10.0                    \n",
       "44 NaN                     NaN                        NaN                      \n",
       "\n",
       "    Review Scores Communication  Review Scores Location  Review Scores Value  \\\n",
       "40  9.0                          9.0                     9.0                   \n",
       "41  10.0                         10.0                    10.0                  \n",
       "42  10.0                         10.0                    9.0                   \n",
       "43  10.0                         10.0                    9.0                   \n",
       "44 NaN                          NaN                     NaN                    \n",
       "\n",
       "   License Jurisdiction Names Cancellation Policy  \\\n",
       "40  NaN     NaN                flexible             \n",
       "41  NaN     NaN                moderate             \n",
       "42  NaN     NaN                flexible             \n",
       "43  NaN     NaN                strict               \n",
       "44  NaN     NaN                moderate             \n",
       "\n",
       "    Calculated host listings count  Reviews per Month  \\\n",
       "40  3.0                             7.71                \n",
       "41  1.0                             2.03                \n",
       "42  1.0                             3.28                \n",
       "43  7.0                             0.57                \n",
       "44  2.0                            NaN                  \n",
       "\n",
       "                     Geolocation  \\\n",
       "40  40.4069528479,-3.6708944906    \n",
       "41  40.4259039216,-3.6816474596    \n",
       "42  40.4283518893,-3.68715466311   \n",
       "43  40.4274544347,-3.68576302323   \n",
       "44  40.4286708577,-3.68542275712   \n",
       "\n",
       "                                                                          Features  \n",
       "40  Host Has Profile Pic,Requires License,Instant Bookable                          \n",
       "41  Host Has Profile Pic,Is Location Exact,Requires License                         \n",
       "42  Host Has Profile Pic,Host Identity Verified,Is Location Exact,Requires License  \n",
       "43  Host Has Profile Pic,Is Location Exact,Requires License                         \n",
       "44  Host Has Profile Pic,Host Identity Verified,Is Location Exact,Requires License  "
      ]
     },
     "execution_count": 10,
     "metadata": {},
     "output_type": "execute_result"
    }
   ],
   "source": [
    "# Me quedo únicamente en el dataset con los registros que contienen imágenes. \n",
    "data_with_imgs = data[was_loaded == 1]\n",
    "\n",
    "print(data_with_imgs.shape)\n",
    "data_with_imgs.head()"
   ]
  },
  {
   "cell_type": "code",
   "execution_count": 109,
   "id": "495e0777",
   "metadata": {},
   "outputs": [
    {
     "data": {
      "image/png": "[encoded data removed]",
      "text/plain": [
       "<Figure size 432x288 with 1 Axes>"
      ]
     },
     "metadata": {
      "needs_background": "light"
     },
     "output_type": "display_data"
    }
   ],
   "source": [
    "#Una vez eliminados los registros sin imágenes, \n",
    "#creo el conjunto etiqueta. Valor único para regresión: \n",
    "y_reg = data_with_imgs['Price']\n",
    "\n",
    "# Plotting the labels\n",
    "import matplotlib.pyplot as plt\n",
    "plt.hist(y_reg, bins=10)\n",
    "plt.show()\n"
   ]
  },
  {
   "cell_type": "markdown",
   "id": "8d65a757",
   "metadata": {},
   "source": [
    "Tengo por un lado un dataset para limpiar y preseleccionar variables numéricas y categóricas y por otro las imágenes en un tensor para a partir de ellas hacer el análisis y la predicción del precio. Empiezo por los datos numéricos y categóricos tal y como se aconseja en el enunciado de la práctica.\n",
    "\n",
    "## PREPROCESAMIENTO y REGRESIÓN DATOS NÚMERICOS Y CATEGÓRICOS\n",
    "De la práctica de ML recupero el procesamiento de los datos numéricos y categóricos."
   ]
  },
  {
   "cell_type": "code",
   "execution_count": 12,
   "id": "3b0b6ac8",
   "metadata": {},
   "outputs": [
    {
     "data": {
      "text/plain": [
       "(10700, 32)"
      ]
     },
     "execution_count": 12,
     "metadata": {},
     "output_type": "execute_result"
    }
   ],
   "source": [
    "#Tras el estudio realizado en ML, empiezo por eliminar las siguientes variables de todo el dataset antes de hacer el split train test (esto no lo haría de no haber hecho análisis previo en el módulo anterior, pero sé que son variables con las que no voy a contar):\n",
    "\n",
    "#las variables descriptivas (ya que en principio no voy a realizar análisis secuencial)\n",
    "#las que contienen URL del dataset, ya tengo las imágenes descargadas en el tensor. \n",
    "#datos de country, country code, estado, ... ya que he reducido la ciudad a Madrid y todas son iguales. \n",
    "#la fecha de extracción y el ID de extracción son iguales en todos los registros. \n",
    "#'Host Acceptance Rate','Jurisdiction Names','Has Availability' porque son todos nulos\n",
    "#license y square feet tienen muy pocos valores no nulos. Se podría valorar hacer una estimación en versiones posteriores. \n",
    "#'Neighbourhood' y neighbourhood grouped, me quedo con neighbourhood cleansed. \n",
    "#datos del host, ya que no son en principio relevantes para el precio a excepción del host since, que lo dejo para convertirlo en antiguedad en airbnb. \n",
    "#datos de precio 'Weekly Price','Monthly Price'. ya tengo Price \n",
    "#'First Review' ya tengo antiguedad\n",
    "#'Last Review''Reviews per Month' \n",
    "#dejo latitud y longitud y elimino 'Geolocation']\n",
    "\n",
    "data_with_imgs= data_with_imgs.drop(['Name','Summary','Space','Description','Neighborhood Overview','Neighbourhood Group Cleansed','Notes', 'Transit','Access','Interaction','House Rules','Host Thumbnail Url','Host Picture Url','Host URL','Listing Url','Medium Url','Picture Url','Thumbnail Url','XL Picture Url','Scrape ID','Country Code','Country','Host Acceptance Rate','Jurisdiction Names','Has Availability','Neighbourhood','Last Scraped','Host Name','Host Location','Host About','Host Neighbourhood','Host Verifications','Weekly Price','Monthly Price','Host Listings Count', 'Host ID','Market', 'Smart Location','Zipcode','Experiences Offered','State','Street','Calendar last Scraped','First Review','Last Review', 'Calendar Updated','Calculated host listings count','Host Total Listings Count', 'Reviews per Month' , 'License','Square Feet', 'Geolocation','City','Availability 30','Availability 60','Availability 90','Maximum Nights'], axis= 1)\n",
    "data_with_imgs.shape\n"
   ]
  },
  {
   "cell_type": "code",
   "execution_count": 13,
   "id": "d1b15e6d",
   "metadata": {},
   "outputs": [
    {
     "name": "stdout",
     "output_type": "stream",
     "text": [
      "<class 'pandas.core.frame.DataFrame'>\n",
      "Int64Index: 10700 entries, 40 to 14757\n",
      "Data columns (total 32 columns):\n",
      " #   Column                       Non-Null Count  Dtype  \n",
      "---  ------                       --------------  -----  \n",
      " 0   ID                           10700 non-null  int64  \n",
      " 1   Host Since                   10697 non-null  object \n",
      " 2   Host Response Time           9414 non-null   object \n",
      " 3   Host Response Rate           9414 non-null   float64\n",
      " 4   Neighbourhood Cleansed       10700 non-null  object \n",
      " 5   Latitude                     10700 non-null  float64\n",
      " 6   Longitude                    10700 non-null  float64\n",
      " 7   Property Type                10700 non-null  object \n",
      " 8   Room Type                    10700 non-null  object \n",
      " 9   Accommodates                 10700 non-null  int64  \n",
      " 10  Bathrooms                    10665 non-null  float64\n",
      " 11  Bedrooms                     10679 non-null  float64\n",
      " 12  Beds                         10661 non-null  float64\n",
      " 13  Bed Type                     10700 non-null  object \n",
      " 14  Amenities                    10628 non-null  object \n",
      " 15  Price                        10696 non-null  float64\n",
      " 16  Security Deposit             4429 non-null   float64\n",
      " 17  Cleaning Fee                 6286 non-null   float64\n",
      " 18  Guests Included              10700 non-null  int64  \n",
      " 19  Extra People                 10700 non-null  int64  \n",
      " 20  Minimum Nights               10700 non-null  int64  \n",
      " 21  Availability 365             10700 non-null  int64  \n",
      " 22  Number of Reviews            10700 non-null  int64  \n",
      " 23  Review Scores Rating         8470 non-null   float64\n",
      " 24  Review Scores Accuracy       8458 non-null   float64\n",
      " 25  Review Scores Cleanliness    8462 non-null   float64\n",
      " 26  Review Scores Checkin        8451 non-null   float64\n",
      " 27  Review Scores Communication  8463 non-null   float64\n",
      " 28  Review Scores Location       8450 non-null   float64\n",
      " 29  Review Scores Value          8449 non-null   float64\n",
      " 30  Cancellation Policy          10700 non-null  object \n",
      " 31  Features                     10700 non-null  object \n",
      "dtypes: float64(16), int64(7), object(9)\n",
      "memory usage: 2.7+ MB\n"
     ]
    }
   ],
   "source": [
    "data_with_imgs.info()\n",
    "#de las variables que me quedan, realizo las modificaciones que me funcionaron en ML"
   ]
  },
  {
   "cell_type": "code",
   "execution_count": 14,
   "id": "ce6939cb",
   "metadata": {},
   "outputs": [],
   "source": [
    "#host since lo convierto a antiguedad en airbnb\n",
    "data_with_imgs['Host Since'] = pd.to_datetime(data_with_imgs['Host Since'])\n",
    "data_with_imgs['Antiguedad']= 2017 - data_with_imgs['Host Since'].dt.year\n",
    "data_with_imgs['Antiguedad'].fillna(data_with_imgs['Antiguedad'].mean(),inplace= True)\n",
    "data_with_imgs= data_with_imgs.drop(['Host Since'],axis=1)\n",
    "\n",
    "#convierto variables categóricas a numéricas\n",
    "mean_encodeRespTime= data_with_imgs.groupby('Host Response Time')['Price'].mean()\n",
    "data_with_imgs.loc[:,'Host_Resp_Time_enc']=data_with_imgs['Host Response Time'].map(mean_encodeRespTime)\n",
    "mean_encodeNeigh= data_with_imgs.groupby('Neighbourhood Cleansed')['Price'].mean()\n",
    "data_with_imgs.loc[:,'Neighbourhood_enc']=data_with_imgs['Neighbourhood Cleansed'].map(mean_encodeNeigh)\n",
    "mean_encodePropType= data_with_imgs.groupby('Property Type')['Price'].mean()\n",
    "data_with_imgs.loc[:,'PropertyType_enc']=data_with_imgs['Property Type'].map(mean_encodePropType)\n",
    "mean_encodeRoomType= data_with_imgs.groupby('Room Type')['Price'].mean()\n",
    "data_with_imgs.loc[:,'RoomType_enc']=data_with_imgs['Room Type'].map(mean_encodeRoomType)\n",
    "mean_encodeBedType= data_with_imgs.groupby('Bed Type')['Price'].mean()\n",
    "data_with_imgs.loc[:,'BedType_enc']=data_with_imgs['Bed Type'].map(mean_encodeBedType)\n",
    "mean_encodeCancPol= data_with_imgs.groupby('Cancellation Policy')['Price'].mean()\n",
    "data_with_imgs.loc[:,'CancellationPolicy_enc']=data_with_imgs['Cancellation Policy'].map(mean_encodeCancPol)\n",
    "data_with_imgs= data_with_imgs.drop(['Host Response Time','Neighbourhood Cleansed','Property Type','Room Type','Bed Type','Cancellation Policy'],axis=1)\n",
    "\n",
    "#convierto Amenities y Features en número sumando el total de sus elementos. \n",
    "data_with_imgs['Total_Amenities'] = data_with_imgs['Amenities'].apply(lambda x: len(str(x).split(',')))\n",
    "data_with_imgs['Total_Features'] = data_with_imgs['Features'].apply(lambda x: len(str(x).split(',')))\n",
    "data_with_imgs= data_with_imgs.drop(['Amenities', 'Features'],axis=1)\n",
    "\n",
    "#saco la media de las reviews\n",
    "data_with_imgs['average_review'] = data_with_imgs[['Review Scores Rating','Review Scores Accuracy','Review Scores Cleanliness','Review Scores Checkin','Review Scores Communication','Review Scores Location','Review Scores Value']].mean(axis=1)\n",
    "data_with_imgs= data_with_imgs.drop(['Review Scores Rating','Review Scores Accuracy','Review Scores Cleanliness','Review Scores Checkin','Review Scores Communication','Review Scores Location','Review Scores Value'],axis=1)\n",
    "\n",
    "#relleno los na con los elementos más adecuados según de qué variable se trate.\n",
    "#bien sustituyo por 0 cuando entiendo que la ausencia es que no existe coste \n",
    "data_with_imgs['Security Deposit'].fillna(0,inplace=True)\n",
    "data_with_imgs['Cleaning Fee'].fillna(0,inplace=True)\n",
    "#las siguientes variables las relleno con la moda para obtener valores enteros. \n",
    "data_with_imgs['Beds'].fillna(data_with_imgs['Beds'].mode()[0], inplace= True)\n",
    "data_with_imgs['Bathrooms'].fillna(data_with_imgs['Bathrooms'].mode()[0], inplace= True)\n",
    "data_with_imgs['Bedrooms'].fillna(data_with_imgs['Bedrooms'].mode()[0], inplace= True)\n",
    "#y el resto de na lo sustituyo por la media.\n",
    "data_with_imgs.fillna(data_with_imgs.mean(), inplace= True)\n",
    "\n",
    "#cambio la columna del precio a la primera posición\n",
    "col = data_with_imgs.pop(\"Price\")\n",
    "data_with_imgs.insert(0, col.name, col)\n",
    "\n",
    "#creo nueva variable recomendada para este tipo de estudios a partir de combinación de variables existentes. \n",
    "#data_with_imgs['bedrooms_squared'] = data_with_imgs['Bedrooms'].apply(lambda x: x**2)\n",
    "#data_with_imgs['bed_bath_rooms']   = data_with_imgs['Bedrooms']*data_with_imgs['Bathrooms']\n",
    "data_with_imgs['lat_plus_long']    = data_with_imgs['Latitude']*data_with_imgs['Longitude']\n"
   ]
  },
  {
   "cell_type": "code",
   "execution_count": 15,
   "id": "43878a17",
   "metadata": {},
   "outputs": [
    {
     "data": {
      "text/plain": [
       "Price                     0\n",
       "ID                        0\n",
       "Host Response Rate        0\n",
       "Latitude                  0\n",
       "Longitude                 0\n",
       "Accommodates              0\n",
       "Bathrooms                 0\n",
       "Bedrooms                  0\n",
       "Beds                      0\n",
       "Security Deposit          0\n",
       "Cleaning Fee              0\n",
       "Guests Included           0\n",
       "Extra People              0\n",
       "Minimum Nights            0\n",
       "Availability 365          0\n",
       "Number of Reviews         0\n",
       "Antiguedad                0\n",
       "Host_Resp_Time_enc        0\n",
       "Neighbourhood_enc         0\n",
       "PropertyType_enc          0\n",
       "RoomType_enc              0\n",
       "BedType_enc               0\n",
       "CancellationPolicy_enc    0\n",
       "Total_Amenities           0\n",
       "Total_Features            0\n",
       "average_review            0\n",
       "lat_plus_long             0\n",
       "dtype: int64"
      ]
     },
     "execution_count": 15,
     "metadata": {},
     "output_type": "execute_result"
    }
   ],
   "source": [
    "data_with_imgs.isnull().sum() #para contar na"
   ]
  },
  {
   "cell_type": "code",
   "execution_count": 16,
   "id": "62d243b8",
   "metadata": {},
   "outputs": [
    {
     "data": {
      "image/png": "[encoded data removed]",
      "text/plain": [
       "<Figure size 864x720 with 2 Axes>"
      ]
     },
     "metadata": {
      "needs_background": "light"
     },
     "output_type": "display_data"
    }
   ],
   "source": [
    "#hago matriz de correlación por confirmar y veo que tengo variables muy correlacionadas entre sí. compruebo con los valores de la correlación con precio cuál de las parejas me interesa quedarme. \n",
    "corr = np.abs(data_with_imgs.drop(['Price'], axis=1).corr())\n",
    "\n",
    "mask = np.zeros_like(corr, dtype=np.bool)\n",
    "mask[np.triu_indices_from(mask)] = True\n",
    "\n",
    "f, ax = plt.subplots(figsize=(12, 10))\n",
    "\n",
    "sns.heatmap(corr, mask=mask,vmin = 0.0, vmax=1.0, center=0.5,\n",
    "            linewidths=.1, cmap=\"YlGnBu\", cbar_kws={\"shrink\": .8})\n",
    "\n",
    "plt.show()"
   ]
  },
  {
   "cell_type": "code",
   "execution_count": 17,
   "id": "1eec2003",
   "metadata": {},
   "outputs": [
    {
     "data": {
      "text/plain": [
       "Price                     1.000000\n",
       "Accommodates              0.592458\n",
       "Bedrooms                  0.535962\n",
       "Cleaning Fee              0.513561\n",
       "Beds                      0.490859\n",
       "RoomType_enc              0.479618\n",
       "Guests Included           0.387943\n",
       "Neighbourhood_enc         0.348811\n",
       "Security Deposit          0.327174\n",
       "Bathrooms                 0.320155\n",
       "Total_Amenities           0.211382\n",
       "Total_Features            0.125252\n",
       "PropertyType_enc          0.122336\n",
       "CancellationPolicy_enc    0.120506\n",
       "Extra People              0.109109\n",
       "average_review            0.085191\n",
       "Host_Resp_Time_enc        0.083459\n",
       "Availability 365          0.078952\n",
       "Latitude                  0.074999\n",
       "Antiguedad                0.073236\n",
       "Minimum Nights            0.039313\n",
       "BedType_enc               0.039213\n",
       "ID                       -0.007261\n",
       "Host Response Rate       -0.010334\n",
       "Number of Reviews        -0.013074\n",
       "Longitude                -0.015609\n",
       "lat_plus_long            -0.021824\n",
       "Name: Price, dtype: float64"
      ]
     },
     "execution_count": 17,
     "metadata": {},
     "output_type": "execute_result"
    }
   ],
   "source": [
    "data_with_imgs.corr()['Price'].sort_values(ascending=False)\n",
    "#Entre Beds y accommodates me quedo con Accommodates\n",
    "#elimino también longitude\n"
   ]
  },
  {
   "cell_type": "code",
   "execution_count": 18,
   "id": "3d64b2ab",
   "metadata": {},
   "outputs": [
    {
     "data": {
      "text/plain": [
       "(10700, 25)"
      ]
     },
     "execution_count": 18,
     "metadata": {},
     "output_type": "execute_result"
    }
   ],
   "source": [
    "data_with_imgs=data_with_imgs.drop(['Beds','Longitude'], axis=1)\n",
    "\n",
    "#confirmo el tamaño de mis datos numéricos y categóricos\n",
    "data_with_imgs.shape"
   ]
  },
  {
   "cell_type": "code",
   "execution_count": 110,
   "id": "194d9987",
   "metadata": {},
   "outputs": [],
   "source": [
    "#separo el precio del resto de variables. precio ya lo tengo en y_reg, creo df con variables x.\n",
    "x_reg= data_with_imgs.drop(['Price'], axis=1)\n"
   ]
  },
  {
   "cell_type": "code",
   "execution_count": 113,
   "id": "62184ab8",
   "metadata": {},
   "outputs": [
    {
     "name": "stdout",
     "output_type": "stream",
     "text": [
      "(10700, 24)\n",
      "(10700,)\n"
     ]
    }
   ],
   "source": [
    "print(x_reg.shape)\n",
    "print(y_reg.shape)"
   ]
  },
  {
   "cell_type": "code",
   "execution_count": 19,
   "id": "7be1cf3c",
   "metadata": {},
   "outputs": [
    {
     "data": {
      "text/plain": [
       "(10700, 128, 128, 3)"
      ]
     },
     "execution_count": 19,
     "metadata": {},
     "output_type": "execute_result"
    }
   ],
   "source": [
    "#confirmo que tengo el mismo número de entradas en el tensor de imágenes. \n",
    "loaded_imgs_clean.shape"
   ]
  },
  {
   "cell_type": "code",
   "execution_count": 125,
   "id": "11060a5d",
   "metadata": {},
   "outputs": [
    {
     "name": "stdout",
     "output_type": "stream",
     "text": [
      "Dimensiones del dataset de x_train_orig: (9630, 24)\n",
      "Dimensiones del dataset de x_test_orig: (1070, 24)\n",
      "Dimensiones del dataset de y_train_orig: (9630,)\n",
      "Dimensiones del dataset de y_test_orig: (1070,)\n"
     ]
    }
   ],
   "source": [
    "#A partir de lo avanzado en ML, una vez reducido a 25 características. ya realizo la división entre train y test y empiezo a entrenar y valorar capacidad de predicción o ajustes adicionales. \n",
    "\n",
    "from sklearn.model_selection import train_test_split\n",
    "\n",
    "x_train_orig, x_test_orig, y_train_orig, y_test_orig = train_test_split(x_reg,y_reg, test_size=0.1, shuffle=True, random_state=0)\n",
    "\n",
    "print(f'Dimensiones del dataset de x_train_orig: {x_train_orig.shape}')\n",
    "print(f'Dimensiones del dataset de x_test_orig: {x_test_orig.shape}')\n",
    "print(f'Dimensiones del dataset de y_train_orig: {y_train_orig.shape}')\n",
    "print(f'Dimensiones del dataset de y_test_orig: {y_test_orig.shape}')\n",
    "\n",
    "# Guardamos por si luego lo necesitamos. \n",
    "x_train_orig.to_csv('train.csv', sep=';', decimal='.', index=False)\n",
    "x_test_orig.to_csv('test.csv', sep=';', decimal='.', index=False)\n",
    "y_train_orig.to_csv('train.csv', sep=';', decimal='.', index=False)\n",
    "y_test_orig.to_csv('test.csv', sep=';', decimal='.', index=False)\n",
    "\n",
    "# El data set de test lo reservo para las comprobaciones finales del modelo completo (espero que me de tiempo). \n",
    "# En el de train llevo a cabo entrenamiento y análisis."
   ]
  },
  {
   "cell_type": "code",
   "execution_count": 126,
   "id": "cd02f9f1",
   "metadata": {},
   "outputs": [],
   "source": [
    "y_train_orig=np.expand_dims(y_train_orig,axis=1)\n",
    "y_test_orig=np.expand_dims(y_test_orig,axis=1)"
   ]
  },
  {
   "cell_type": "code",
   "execution_count": 134,
   "id": "b8b03d12",
   "metadata": {},
   "outputs": [
    {
     "name": "stdout",
     "output_type": "stream",
     "text": [
      "1.0000000000000002\n",
      "0.0\n",
      "1.0000000000000002\n",
      "0.0\n",
      "0.9999999999999999\n",
      "0.0\n",
      "0.8216409036860879\n",
      "0.0011890606420927475\n"
     ]
    }
   ],
   "source": [
    "# Escalamos el DataFrame. intento con el standardscaler pero no consigo que los datos me convenzan (algo estoy haciendo mal).\n",
    "#pruebo directamente normalización. normalizo también etiquetas. apunto revisar outliers para segunda ronda.  \n",
    "\n",
    "scaler = MinMaxScaler()\n",
    "# transform data\n",
    "xscalednorm = scaler.fit_transform(x_train_orig)\n",
    "\n",
    "target_scaler = MinMaxScaler()\n",
    "yscalednorm= target_scaler.fit_transform(y_train_orig)\n",
    "\n",
    "#train es el 90% del data set. Vuelvo a dividirlo para tener los datos de validación a la hora de realizar el modelo.\n",
    "x_train, x_valid, y_train, y_valid = train_test_split(xscalednorm, yscalednorm, test_size=0.1)\n",
    "\n",
    "print(x_train.max())\n",
    "print(x_train.min())\n",
    "print(x_valid.max())\n",
    "print(x_valid.min())\n",
    "print(y_train.max())\n",
    "print(y_train.min())\n",
    "print(y_valid.max())\n",
    "print(y_valid.min())\n",
    "\n",
    "\n",
    "\n",
    "\n",
    "\n",
    "\n"
   ]
  },
  {
   "cell_type": "code",
   "execution_count": 180,
   "id": "82f0467d",
   "metadata": {},
   "outputs": [
    {
     "name": "stdout",
     "output_type": "stream",
     "text": [
      "Dimensiones del dataset de x_train: (8667, 24)\n",
      "Dimensiones del dataset de x_valid: (963, 24)\n",
      "Dimensiones del dataset de y_train: (8667, 1)\n",
      "Dimensiones del dataset de y_valid: (963, 1)\n"
     ]
    }
   ],
   "source": [
    "print(f'Dimensiones del dataset de x_train: {x_train.shape}')\n",
    "print(f'Dimensiones del dataset de x_valid: {x_valid.shape}')\n",
    "print(f'Dimensiones del dataset de y_train: {y_train.shape}')\n",
    "print(f'Dimensiones del dataset de y_valid: {y_valid.shape}')"
   ]
  },
  {
   "cell_type": "code",
   "execution_count": 135,
   "id": "95cf8e79",
   "metadata": {},
   "outputs": [],
   "source": [
    "# Empiezo a probar un modelo sencillo de MLP, también llamado FC\n",
    "from keras.models import Sequential\n",
    "from keras.layers import Dense\n",
    "\n",
    "#tal y como se recomienda en clase, empiezo con 3 capas. \n",
    "#Pruebo con 32 neuronas, 16 y 1 (porque quiero un único valor de precio) Pruebo con función de activación relu que en principio parece que suele dar buenos resultados en capas intermedias y luego probaré con tanh quizá en la segunda capa.  \n",
    "model = tf.keras.models.Sequential([\n",
    "    tf.keras.layers.Dense(32,input_shape=(x_train.shape[1],), activation='relu'),\n",
    "    tf.keras.layers.Dense(16,activation='relu'),\n",
    "    tf.keras.layers.Dense(1, activation= 'linear'),\n",
    "])"
   ]
  },
  {
   "cell_type": "code",
   "execution_count": 136,
   "id": "6d77e0a3",
   "metadata": {},
   "outputs": [
    {
     "name": "stdout",
     "output_type": "stream",
     "text": [
      "Model: \"sequential_8\"\n",
      "_________________________________________________________________\n",
      "Layer (type)                 Output Shape              Param #   \n",
      "=================================================================\n",
      "dense_42 (Dense)             (None, 32)                800       \n",
      "_________________________________________________________________\n",
      "dense_43 (Dense)             (None, 16)                528       \n",
      "_________________________________________________________________\n",
      "dense_44 (Dense)             (None, 1)                 17        \n",
      "=================================================================\n",
      "Total params: 1,345\n",
      "Trainable params: 1,345\n",
      "Non-trainable params: 0\n",
      "_________________________________________________________________\n"
     ]
    }
   ],
   "source": [
    "model.summary()\n",
    "#confirmo que los 800 parámetros de la primera capa son los 24 elementos de entrada *32 + 32 bias(hay tantos como neuronas)\n",
    "#en la segunda capa los parámetros salen de multiplicar la entrada que son 32*16 +16 bias=528\n",
    "#la tercera capa son 16 elementos de entrada por 1 salida + 1=17\n"
   ]
  },
  {
   "cell_type": "code",
   "execution_count": 137,
   "id": "da7a5cd6",
   "metadata": {},
   "outputs": [
    {
     "name": "stdout",
     "output_type": "stream",
     "text": [
      "Epoch 1/20\n",
      "2167/2167 [==============================] - 2s 1ms/step - loss: 0.0022 - val_loss: 0.0020\n",
      "Epoch 2/20\n",
      "2167/2167 [==============================] - 1s 591us/step - loss: 0.0017 - val_loss: 0.0021\n",
      "Epoch 3/20\n",
      "2167/2167 [==============================] - 1s 595us/step - loss: 0.0017 - val_loss: 0.0018\n",
      "Epoch 4/20\n",
      "2167/2167 [==============================] - 1s 586us/step - loss: 0.0016 - val_loss: 0.0019\n",
      "Epoch 5/20\n",
      "2167/2167 [==============================] - 1s 586us/step - loss: 0.0016 - val_loss: 0.0016\n",
      "Epoch 6/20\n",
      "2167/2167 [==============================] - 1s 671us/step - loss: 0.0015 - val_loss: 0.0017\n",
      "Epoch 7/20\n",
      "2167/2167 [==============================] - 1s 665us/step - loss: 0.0015 - val_loss: 0.0017\n",
      "Epoch 8/20\n",
      "2167/2167 [==============================] - 1s 614us/step - loss: 0.0014 - val_loss: 0.0016\n",
      "Epoch 9/20\n",
      "2167/2167 [==============================] - 1s 608us/step - loss: 0.0014 - val_loss: 0.0016\n",
      "Epoch 10/20\n",
      "2167/2167 [==============================] - 1s 607us/step - loss: 0.0014 - val_loss: 0.0017\n",
      "Epoch 11/20\n",
      "2167/2167 [==============================] - 1s 658us/step - loss: 0.0013 - val_loss: 0.0016\n",
      "Epoch 12/20\n",
      "2167/2167 [==============================] - 1s 608us/step - loss: 0.0013 - val_loss: 0.0014\n",
      "Epoch 13/20\n",
      "2167/2167 [==============================] - 1s 593us/step - loss: 0.0013 - val_loss: 0.0014\n",
      "Epoch 14/20\n",
      "2167/2167 [==============================] - 1s 631us/step - loss: 0.0013 - val_loss: 0.0017\n",
      "Epoch 15/20\n",
      "2167/2167 [==============================] - 1s 646us/step - loss: 0.0013 - val_loss: 0.0016\n",
      "Epoch 16/20\n",
      "2167/2167 [==============================] - 1s 647us/step - loss: 0.0013 - val_loss: 0.0016\n",
      "Epoch 17/20\n",
      "2167/2167 [==============================] - 1s 673us/step - loss: 0.0013 - val_loss: 0.0018\n",
      "Epoch 18/20\n",
      "2167/2167 [==============================] - 1s 641us/step - loss: 0.0012 - val_loss: 0.0016\n",
      "Epoch 19/20\n",
      "2167/2167 [==============================] - 1s 607us/step - loss: 0.0012 - val_loss: 0.0016\n",
      "Epoch 20/20\n",
      "2167/2167 [==============================] - 1s 657us/step - loss: 0.0012 - val_loss: 0.0015\n"
     ]
    },
    {
     "data": {
      "text/plain": [
       "<tensorflow.python.keras.callbacks.History at 0x160ea3cfdf0>"
      ]
     },
     "execution_count": 137,
     "metadata": {},
     "output_type": "execute_result"
    }
   ],
   "source": [
    "#pruebo con optimizador adam porque se comentó que era el más utilizado y daba buenos resultados al ser una buena combinación entre RMSProp y gradient descent with momentum \n",
    "#como voy a hacer una regresión, pongo como función de pérdida el error cuadrático medio. \n",
    "model.compile(optimizer='adam',\n",
    "              loss='mean_squared_error')\n",
    "\n",
    "model.fit(x_train, y_train,\n",
    "          validation_data=(x_valid, y_valid),\n",
    "          epochs=20,\n",
    "          batch_size=4)"
   ]
  },
  {
   "cell_type": "code",
   "execution_count": 138,
   "id": "0ad4fb5d",
   "metadata": {},
   "outputs": [
    {
     "name": "stdout",
     "output_type": "stream",
     "text": [
      "863.59045\n",
      "-34.583694\n",
      "[[ 5.24235535]\n",
      " [ 7.1634407 ]\n",
      " [18.2710762 ]\n",
      " ...\n",
      " [11.34543228]\n",
      " [ 2.20608139]\n",
      " [ 3.01673126]]\n",
      "16.694937737312397\n"
     ]
    }
   ],
   "source": [
    "#pruebo a desnormalizar para tener una idea real. \n",
    "y_pred = model.predict(x_train)\n",
    "y_pred = target_scaler.inverse_transform(y_pred)\n",
    "y_traininv = target_scaler.inverse_transform(y_train)\n",
    "\n",
    "\n",
    "print(y_pred.max())\n",
    "print(y_pred.min())\n",
    "\n",
    "error= np.abs(y_pred-y_traininv)\n",
    "print(error)\n",
    "\n",
    "media_error=error.mean()\n",
    "\n",
    "print(media_error)\n",
    "#El error medio en euros son 16.69€, mejorable aunque si pienso en los outliers no es muy significativo"
   ]
  },
  {
   "cell_type": "code",
   "execution_count": 139,
   "id": "38197952",
   "metadata": {},
   "outputs": [
    {
     "name": "stdout",
     "output_type": "stream",
     "text": [
      "Epoch 1/40\n",
      "4334/4334 [==============================] - 3s 687us/step - loss: 0.0025 - val_loss: 0.0018\n",
      "Epoch 2/40\n",
      "4334/4334 [==============================] - 3s 621us/step - loss: 0.0019 - val_loss: 0.0022\n",
      "Epoch 3/40\n",
      "4334/4334 [==============================] - 3s 678us/step - loss: 0.0018 - val_loss: 0.0018\n",
      "Epoch 4/40\n",
      "4334/4334 [==============================] - 3s 691us/step - loss: 0.0017 - val_loss: 0.0018\n",
      "Epoch 5/40\n",
      "4334/4334 [==============================] - 3s 671us/step - loss: 0.0017 - val_loss: 0.0018\n",
      "Epoch 6/40\n",
      "4334/4334 [==============================] - 3s 642us/step - loss: 0.0016 - val_loss: 0.0017\n",
      "Epoch 7/40\n",
      "4334/4334 [==============================] - 3s 663us/step - loss: 0.0016 - val_loss: 0.0017\n",
      "Epoch 8/40\n",
      "4334/4334 [==============================] - 3s 671us/step - loss: 0.0016 - val_loss: 0.0017\n",
      "Epoch 9/40\n",
      "4334/4334 [==============================] - 3s 671us/step - loss: 0.0015 - val_loss: 0.0017\n",
      "Epoch 10/40\n",
      "4334/4334 [==============================] - 3s 668us/step - loss: 0.0015 - val_loss: 0.0017\n",
      "Epoch 11/40\n",
      "4334/4334 [==============================] - 3s 664us/step - loss: 0.0015 - val_loss: 0.0016\n",
      "Epoch 12/40\n",
      "4334/4334 [==============================] - 3s 663us/step - loss: 0.0015 - val_loss: 0.0016\n",
      "Epoch 13/40\n",
      "4334/4334 [==============================] - 3s 690us/step - loss: 0.0015 - val_loss: 0.0017\n",
      "Epoch 14/40\n",
      "4334/4334 [==============================] - 3s 653us/step - loss: 0.0015 - val_loss: 0.0018\n",
      "Epoch 15/40\n",
      "4334/4334 [==============================] - 3s 683us/step - loss: 0.0015 - val_loss: 0.0017\n",
      "Epoch 16/40\n",
      "4334/4334 [==============================] - 3s 667us/step - loss: 0.0014 - val_loss: 0.0017\n",
      "Epoch 17/40\n",
      "4334/4334 [==============================] - 3s 699us/step - loss: 0.0014 - val_loss: 0.0016\n",
      "Epoch 18/40\n",
      "4334/4334 [==============================] - 3s 686us/step - loss: 0.0014 - val_loss: 0.0016\n",
      "Epoch 19/40\n",
      "4334/4334 [==============================] - 3s 612us/step - loss: 0.0014 - val_loss: 0.0020\n",
      "Epoch 20/40\n",
      "4334/4334 [==============================] - 3s 596us/step - loss: 0.0014 - val_loss: 0.0015\n",
      "Epoch 21/40\n",
      "4334/4334 [==============================] - 3s 586us/step - loss: 0.0014 - val_loss: 0.0016\n",
      "Epoch 22/40\n",
      "4334/4334 [==============================] - 3s 646us/step - loss: 0.0013 - val_loss: 0.0015\n",
      "Epoch 23/40\n",
      "4334/4334 [==============================] - 3s 671us/step - loss: 0.0014 - val_loss: 0.0015\n",
      "Epoch 24/40\n",
      "4334/4334 [==============================] - 3s 629us/step - loss: 0.0013 - val_loss: 0.0015\n",
      "Epoch 25/40\n",
      "4334/4334 [==============================] - 3s 625us/step - loss: 0.0013 - val_loss: 0.0015\n",
      "Epoch 26/40\n",
      "4334/4334 [==============================] - 2s 574us/step - loss: 0.0013 - val_loss: 0.0015\n",
      "Epoch 27/40\n",
      "4334/4334 [==============================] - 2s 567us/step - loss: 0.0013 - val_loss: 0.0017\n",
      "Epoch 28/40\n",
      "4334/4334 [==============================] - 3s 610us/step - loss: 0.0013 - val_loss: 0.0016\n",
      "Epoch 29/40\n",
      "4334/4334 [==============================] - 2s 572us/step - loss: 0.0013 - val_loss: 0.0015\n",
      "Epoch 30/40\n",
      "4334/4334 [==============================] - 3s 578us/step - loss: 0.0013 - val_loss: 0.0015\n",
      "Epoch 31/40\n",
      "4334/4334 [==============================] - 3s 616us/step - loss: 0.0013 - val_loss: 0.0015\n",
      "Epoch 32/40\n",
      "4334/4334 [==============================] - 3s 581us/step - loss: 0.0013 - val_loss: 0.0015\n",
      "Epoch 33/40\n",
      "4334/4334 [==============================] - 3s 595us/step - loss: 0.0013 - val_loss: 0.0016\n",
      "Epoch 34/40\n",
      "4334/4334 [==============================] - 2s 574us/step - loss: 0.0013 - val_loss: 0.0015\n",
      "Epoch 35/40\n",
      "4334/4334 [==============================] - 3s 612us/step - loss: 0.0013 - val_loss: 0.0017\n",
      "Epoch 36/40\n",
      "4334/4334 [==============================] - 3s 681us/step - loss: 0.0013 - val_loss: 0.0015\n",
      "Epoch 37/40\n",
      "4334/4334 [==============================] - 2s 558us/step - loss: 0.0013 - val_loss: 0.0015\n",
      "Epoch 38/40\n",
      "4334/4334 [==============================] - 3s 677us/step - loss: 0.0013 - val_loss: 0.0017\n",
      "Epoch 39/40\n",
      "4334/4334 [==============================] - 3s 607us/step - loss: 0.0013 - val_loss: 0.0015\n",
      "Epoch 40/40\n",
      "4334/4334 [==============================] - 3s 599us/step - loss: 0.0012 - val_loss: 0.0016\n"
     ]
    },
    {
     "data": {
      "text/plain": [
       "<tensorflow.python.keras.callbacks.History at 0x160e5553d90>"
      ]
     },
     "execution_count": 139,
     "metadata": {},
     "output_type": "execute_result"
    }
   ],
   "source": [
    "#No parece un valor malo pero por si acaso realizo varias pruebas más:\n",
    "#Pruebo modificando, ampliando las neuronas y cambiando la función de activación de la segunda capa, recomiendan tanh llegando al final, aunque este es breve. \n",
    "from keras.models import Sequential\n",
    "from keras.layers import Dense\n",
    "\n",
    "model2 = tf.keras.models.Sequential([\n",
    "    tf.keras.layers.Dense(64,input_shape=(x_train.shape[1],), activation='relu'),\n",
    "    tf.keras.layers.Dense(32,activation='tanh'),\n",
    "    tf.keras.layers.Dense(1, activation= 'linear'),\n",
    "])\n",
    "\n",
    "model2.compile(optimizer='adam',\n",
    "              loss='mean_squared_error')\n",
    "\n",
    "#y amplío el número de epocas y pruebo a reducir el batch size\n",
    "model2.fit(x_train, y_train,\n",
    "          validation_data=(x_valid, y_valid),\n",
    "          epochs=40,\n",
    "          batch_size=2)"
   ]
  },
  {
   "cell_type": "code",
   "execution_count": 140,
   "id": "8101d82b",
   "metadata": {},
   "outputs": [
    {
     "name": "stdout",
     "output_type": "stream",
     "text": [
      "Epoch 1/20\n",
      "   1/4334 [..............................] - ETA: 0s - loss: 0.3990WARNING:tensorflow:Callbacks method `on_train_batch_end` is slow compared to the batch time (batch time: 0.0000s vs `on_train_batch_end` time: 0.0010s). Check your callbacks.\n",
      "4334/4334 [==============================] - 3s 702us/step - loss: 0.0126 - val_loss: 0.0026\n",
      "Epoch 2/20\n",
      "4334/4334 [==============================] - 3s 645us/step - loss: 0.0024 - val_loss: 0.0023\n",
      "Epoch 3/20\n",
      "4334/4334 [==============================] - 3s 685us/step - loss: 0.0024 - val_loss: 0.0022\n",
      "Epoch 4/20\n",
      "4334/4334 [==============================] - 3s 680us/step - loss: 0.0024 - val_loss: 0.0027\n",
      "Epoch 5/20\n",
      "4334/4334 [==============================] - 3s 672us/step - loss: 0.0023 - val_loss: 0.0024\n",
      "Epoch 6/20\n",
      "4334/4334 [==============================] - 3s 667us/step - loss: 0.0023 - val_loss: 0.0023\n",
      "Epoch 7/20\n",
      "4334/4334 [==============================] - 3s 685us/step - loss: 0.0023 - val_loss: 0.0032\n",
      "Epoch 8/20\n",
      "4334/4334 [==============================] - 3s 687us/step - loss: 0.0023 - val_loss: 0.0022\n",
      "Epoch 9/20\n",
      "4334/4334 [==============================] - 3s 684us/step - loss: 0.0023 - val_loss: 0.0022\n",
      "Epoch 10/20\n",
      "4334/4334 [==============================] - 3s 680us/step - loss: 0.0023 - val_loss: 0.0021\n",
      "Epoch 11/20\n",
      "4334/4334 [==============================] - 3s 688us/step - loss: 0.0023 - val_loss: 0.0023\n",
      "Epoch 12/20\n",
      "4334/4334 [==============================] - 3s 723us/step - loss: 0.0023 - val_loss: 0.0022\n",
      "Epoch 13/20\n",
      "4334/4334 [==============================] - 3s 673us/step - loss: 0.0023 - val_loss: 0.0025\n",
      "Epoch 14/20\n",
      "4334/4334 [==============================] - 3s 652us/step - loss: 0.0023 - val_loss: 0.0021\n",
      "Epoch 15/20\n",
      "4334/4334 [==============================] - 3s 630us/step - loss: 0.0023 - val_loss: 0.0021\n",
      "Epoch 16/20\n",
      "4334/4334 [==============================] - 3s 614us/step - loss: 0.0023 - val_loss: 0.0021\n",
      "Epoch 17/20\n",
      "4334/4334 [==============================] - 3s 582us/step - loss: 0.0023 - val_loss: 0.0025\n",
      "Epoch 18/20\n",
      "4334/4334 [==============================] - 3s 590us/step - loss: 0.0022 - val_loss: 0.0022\n",
      "Epoch 19/20\n",
      "4334/4334 [==============================] - 3s 686us/step - loss: 0.0023 - val_loss: 0.0023\n",
      "Epoch 20/20\n",
      "4334/4334 [==============================] - 3s 617us/step - loss: 0.0023 - val_loss: 0.0025\n"
     ]
    },
    {
     "data": {
      "text/plain": [
       "<tensorflow.python.keras.callbacks.History at 0x160ea7c1160>"
      ]
     },
     "execution_count": 140,
     "metadata": {},
     "output_type": "execute_result"
    }
   ],
   "source": [
    "#pruebo a meter regularización l2 valor default \n",
    "model3 = tf.keras.models.Sequential([\n",
    "    tf.keras.layers.Dense(64,input_shape=(x_train.shape[1],), activation='relu',kernel_regularizer='l2'),\n",
    "    tf.keras.layers.Dense(32,activation='tanh'),\n",
    "    tf.keras.layers.Dense(1, activation= 'linear'),\n",
    "])\n",
    "model3.compile(optimizer='adam',\n",
    "              loss='mean_squared_error')\n",
    "model3.fit(x_train, y_train,\n",
    "          validation_data=(x_valid, y_valid),\n",
    "          epochs=20,\n",
    "          batch_size=2)\n"
   ]
  },
  {
   "cell_type": "code",
   "execution_count": null,
   "id": "f447e18a",
   "metadata": {},
   "outputs": [],
   "source": [
    "#pensaba probar con l1 para ver la diferencia (en alguna prueba anterior mejoró) pero no parece haber mucho overfitting y los datos no han mejorado con la regularización.\n",
    "#model4 = tf.keras.models.Sequential([\n",
    "#    tf.keras.layers.Dense(64,input_shape=(x_train.shape[1],), activation='relu',kernel_regularizer='l1'),\n",
    "#    tf.keras.layers.Dense(32,activation='tanh'),\n",
    " #   tf.keras.layers.Dense(1, activation= 'linear'),\n",
    "#])\n",
    "\n",
    "#model4.compile(optimizer='adam',\n",
    " #             loss='mean_squared_error')\n",
    "\n",
    "#model4.fit(x_train, y_train,\n",
    " #         validation_data=(x_valid, y_valid),\n",
    " #         epochs=20,\n",
    " #         batch_size=2)"
   ]
  },
  {
   "cell_type": "code",
   "execution_count": 141,
   "id": "ef579b10",
   "metadata": {},
   "outputs": [
    {
     "name": "stdout",
     "output_type": "stream",
     "text": [
      "Epoch 1/20\n",
      "4334/4334 [==============================] - 3s 609us/step - loss: 0.0592 - val_loss: 0.0110\n",
      "Epoch 2/20\n",
      "4334/4334 [==============================] - 3s 618us/step - loss: 0.0114 - val_loss: 0.0109\n",
      "Epoch 3/20\n",
      "4334/4334 [==============================] - 3s 601us/step - loss: 0.0113 - val_loss: 0.0107\n",
      "Epoch 4/20\n",
      "4334/4334 [==============================] - 3s 627us/step - loss: 0.0113 - val_loss: 0.0117\n",
      "Epoch 5/20\n",
      "4334/4334 [==============================] - 3s 626us/step - loss: 0.0113 - val_loss: 0.0113\n",
      "Epoch 6/20\n",
      "4334/4334 [==============================] - 3s 697us/step - loss: 0.0113 - val_loss: 0.0108\n",
      "Epoch 7/20\n",
      "4334/4334 [==============================] - 3s 642us/step - loss: 0.0113 - val_loss: 0.0138\n",
      "Epoch 8/20\n",
      "4334/4334 [==============================] - 3s 590us/step - loss: 0.0113 - val_loss: 0.0115\n",
      "Epoch 9/20\n",
      "4334/4334 [==============================] - 3s 632us/step - loss: 0.0113 - val_loss: 0.0108\n",
      "Epoch 10/20\n",
      "4334/4334 [==============================] - 3s 624us/step - loss: 0.0113 - val_loss: 0.0108\n",
      "Epoch 11/20\n",
      "4334/4334 [==============================] - 3s 591us/step - loss: 0.0113 - val_loss: 0.0108\n",
      "Epoch 12/20\n",
      "4334/4334 [==============================] - 3s 607us/step - loss: 0.0113 - val_loss: 0.0107\n",
      "Epoch 13/20\n",
      "4334/4334 [==============================] - 3s 618us/step - loss: 0.0113 - val_loss: 0.0110\n",
      "Epoch 14/20\n",
      "4334/4334 [==============================] - 3s 629us/step - loss: 0.0113 - val_loss: 0.0113\n",
      "Epoch 15/20\n",
      "4334/4334 [==============================] - 3s 627us/step - loss: 0.0113 - val_loss: 0.0107\n",
      "Epoch 16/20\n",
      "4334/4334 [==============================] - 3s 637us/step - loss: 0.0112 - val_loss: 0.0108\n",
      "Epoch 17/20\n",
      "4334/4334 [==============================] - 3s 622us/step - loss: 0.0113 - val_loss: 0.0125\n",
      "Epoch 18/20\n",
      "4334/4334 [==============================] - 3s 628us/step - loss: 0.0113 - val_loss: 0.0110\n",
      "Epoch 19/20\n",
      "4334/4334 [==============================] - 3s 646us/step - loss: 0.0113 - val_loss: 0.0112\n",
      "Epoch 20/20\n",
      "4334/4334 [==============================] - 3s 655us/step - loss: 0.0113 - val_loss: 0.0113\n"
     ]
    },
    {
     "data": {
      "text/plain": [
       "<tensorflow.python.keras.callbacks.History at 0x15da72e6490>"
      ]
     },
     "execution_count": 141,
     "metadata": {},
     "output_type": "execute_result"
    }
   ],
   "source": [
    "#pruebo con RMSProp en vez de adam con la L2 \n",
    "model5 = tf.keras.models.Sequential([\n",
    "    tf.keras.layers.Dense(64,input_shape=(x_train.shape[1],), activation='relu',kernel_regularizer='l1'),\n",
    "    tf.keras.layers.Dense(32,activation='tanh'),\n",
    "    tf.keras.layers.Dense(1, activation= 'linear'),\n",
    "])\n",
    "\n",
    "model5.compile(optimizer='RMSProp',\n",
    "              loss='mean_squared_error')\n",
    "\n",
    "model5.fit(x_train, y_train,\n",
    "          validation_data=(x_valid, y_valid),\n",
    "          epochs=20,\n",
    "          batch_size=2)\n",
    "\n",
    "#empieza en un valor más alto que el resto y con las epoch que le doy no le da tiempo a bajar...eso sí, no hay prácticamente diferencia entre train y valid"
   ]
  },
  {
   "cell_type": "code",
   "execution_count": null,
   "id": "d4843351",
   "metadata": {},
   "outputs": [],
   "source": [
    "#en las pruebas previas analizo opción de meter la regularización en las dos capas pero finalmente no lo valoro. \n",
    "#model = tf.keras.models.Sequential([\n",
    "#    tf.keras.layers.Dense(64,input_shape=(x_train.shape[1],), activation='relu',kernel_regularizer=tf.keras.regularizers.L1(0.5)),\n",
    "#    tf.keras.layers.Dense(32,activation='tanh',kernel_regularizer=tf.keras.regularizers.L1(0.5)),\n",
    "#    tf.keras.layers.Dense(1, activation= 'linear'),\n",
    "#])\n",
    "\n",
    "#model.compile(optimizer='adam',\n",
    " #             loss='mean_squared_error')\n",
    "\n",
    "#model.fit(x_train, y_train,\n",
    " #         validation_data=(x_valid, y_valid),\n",
    "  #        epochs=20,\n",
    "   #       batch_size=2)\n"
   ]
  },
  {
   "cell_type": "markdown",
   "id": "51ad051a",
   "metadata": {},
   "source": [
    " Parece que mis resultados empeoran con el cambio de optimizer. \n",
    " \n",
    " Vuelvo a probar el modelo 1 con adam y más épocas para poder ver si es significativamente mejor que el 2."
   ]
  },
  {
   "cell_type": "code",
   "execution_count": 142,
   "id": "7b802094",
   "metadata": {},
   "outputs": [
    {
     "name": "stdout",
     "output_type": "stream",
     "text": [
      "Epoch 1/40\n",
      "2167/2167 [==============================] - 1s 608us/step - loss: 0.0012 - val_loss: 0.0014\n",
      "Epoch 2/40\n",
      "2167/2167 [==============================] - 1s 661us/step - loss: 0.0012 - val_loss: 0.0014\n",
      "Epoch 3/40\n",
      "2167/2167 [==============================] - 1s 691us/step - loss: 0.0012 - val_loss: 0.0015\n",
      "Epoch 4/40\n",
      "2167/2167 [==============================] - 2s 729us/step - loss: 0.0012 - val_loss: 0.0014\n",
      "Epoch 5/40\n",
      "2167/2167 [==============================] - 1s 604us/step - loss: 0.0012 - val_loss: 0.0015\n",
      "Epoch 6/40\n",
      "2167/2167 [==============================] - 1s 593us/step - loss: 0.0012 - val_loss: 0.0017\n",
      "Epoch 7/40\n",
      "2167/2167 [==============================] - 1s 549us/step - loss: 0.0011 - val_loss: 0.0015\n",
      "Epoch 8/40\n",
      "2167/2167 [==============================] - 2s 753us/step - loss: 0.0012 - val_loss: 0.001300\n",
      "Epoch 9/40\n",
      "2167/2167 [==============================] - 1s 648us/step - loss: 0.0011 - val_loss: 0.0015\n",
      "Epoch 10/40\n",
      "2167/2167 [==============================] - 1s 605us/step - loss: 0.0011 - val_loss: 0.0015\n",
      "Epoch 11/40\n",
      "2167/2167 [==============================] - 1s 644us/step - loss: 0.0011 - val_loss: 0.0015\n",
      "Epoch 12/40\n",
      "2167/2167 [==============================] - 1s 614us/step - loss: 0.0011 - val_loss: 0.0015\n",
      "Epoch 13/40\n",
      "2167/2167 [==============================] - 1s 616us/step - loss: 0.0011 - val_loss: 0.0015\n",
      "Epoch 14/40\n",
      "2167/2167 [==============================] - 1s 675us/step - loss: 0.0011 - val_loss: 0.0017\n",
      "Epoch 15/40\n",
      "2167/2167 [==============================] - 1s 646us/step - loss: 0.0011 - val_loss: 0.0014\n",
      "Epoch 16/40\n",
      "2167/2167 [==============================] - 1s 679us/step - loss: 0.0011 - val_loss: 0.0013\n",
      "Epoch 17/40\n",
      "2167/2167 [==============================] - 1s 658us/step - loss: 0.0011 - val_loss: 0.0018\n",
      "Epoch 18/40\n",
      "2167/2167 [==============================] - 1s 658us/step - loss: 0.0011 - val_loss: 0.0013\n",
      "Epoch 19/40\n",
      "2167/2167 [==============================] - 1s 629us/step - loss: 0.0011 - val_loss: 0.0013\n",
      "Epoch 20/40\n",
      "2167/2167 [==============================] - 1s 637us/step - loss: 0.0011 - val_loss: 0.0018\n",
      "Epoch 21/40\n",
      "2167/2167 [==============================] - 1s 631us/step - loss: 0.0011 - val_loss: 0.0013\n",
      "Epoch 22/40\n",
      "2167/2167 [==============================] - 1s 621us/step - loss: 0.0011 - val_loss: 0.0014\n",
      "Epoch 23/40\n",
      "2167/2167 [==============================] - 2s 704us/step - loss: 0.0010 - val_loss: 0.0014\n",
      "Epoch 24/40\n",
      "2167/2167 [==============================] - 1s 664us/step - loss: 0.0010 - val_loss: 0.0014\n",
      "Epoch 25/40\n",
      "2167/2167 [==============================] - 1s 684us/step - loss: 0.0011 - val_loss: 0.0016\n",
      "Epoch 26/40\n",
      "2167/2167 [==============================] - 1s 689us/step - loss: 0.0011 - val_loss: 0.0013\n",
      "Epoch 27/40\n",
      "2167/2167 [==============================] - 2s 712us/step - loss: 0.0010 - val_loss: 0.0014\n",
      "Epoch 28/40\n",
      "2167/2167 [==============================] - 1s 639us/step - loss: 0.0011 - val_loss: 0.0015\n",
      "Epoch 29/40\n",
      "2167/2167 [==============================] - 1s 636us/step - loss: 0.0011 - val_loss: 0.0014\n",
      "Epoch 30/40\n",
      "2167/2167 [==============================] - 1s 669us/step - loss: 0.0011 - val_loss: 0.0014\n",
      "Epoch 31/40\n",
      "2167/2167 [==============================] - 1s 644us/step - loss: 0.0010 - val_loss: 0.0015\n",
      "Epoch 32/40\n",
      "2167/2167 [==============================] - 1s 642us/step - loss: 0.0011 - val_loss: 0.0015\n",
      "Epoch 33/40\n",
      "2167/2167 [==============================] - 1s 632us/step - loss: 0.0010 - val_loss: 0.0015\n",
      "Epoch 34/40\n",
      "2167/2167 [==============================] - 1s 643us/step - loss: 0.0010 - val_loss: 0.0015\n",
      "Epoch 35/40\n",
      "2167/2167 [==============================] - 1s 651us/step - loss: 0.0011 - val_loss: 0.0014\n",
      "Epoch 36/40\n",
      "2167/2167 [==============================] - 1s 586us/step - loss: 0.0010 - val_loss: 0.0014\n",
      "Epoch 37/40\n",
      "2167/2167 [==============================] - 1s 606us/step - loss: 0.0010 - val_loss: 0.0014\n",
      "Epoch 38/40\n",
      "2167/2167 [==============================] - 1s 582us/step - loss: 0.0010 - val_loss: 0.0016\n",
      "Epoch 39/40\n",
      "2167/2167 [==============================] - 1s 592us/step - loss: 0.0010 - val_loss: 0.0014\n",
      "Epoch 40/40\n",
      "2167/2167 [==============================] - 1s 613us/step - loss: 0.0010 - val_loss: 0.0014\n"
     ]
    },
    {
     "data": {
      "text/plain": [
       "<tensorflow.python.keras.callbacks.History at 0x15dac133340>"
      ]
     },
     "execution_count": 142,
     "metadata": {},
     "output_type": "execute_result"
    }
   ],
   "source": [
    "model.compile(optimizer='adam',\n",
    "              loss='mean_squared_error')\n",
    "\n",
    "model.fit(x_train, y_train,\n",
    "          validation_data=(x_valid, y_valid),\n",
    "          epochs=40,\n",
    "          batch_size=4)"
   ]
  },
  {
   "cell_type": "code",
   "execution_count": null,
   "id": "ad27662d",
   "metadata": {},
   "outputs": [],
   "source": [
    "#parece que los datos de train aprenden pero aumenta la diferencia con validation. pruebo el modelo con l1 y 40 epocas. "
   ]
  },
  {
   "cell_type": "code",
   "execution_count": 143,
   "id": "9db34d0c",
   "metadata": {},
   "outputs": [
    {
     "name": "stdout",
     "output_type": "stream",
     "text": [
      "Epoch 1/40\n",
      "   1/4334 [..............................] - ETA: 0s - loss: 2.1278WARNING:tensorflow:Callbacks method `on_train_batch_end` is slow compared to the batch time (batch time: 0.0000s vs `on_train_batch_end` time: 0.0010s). Check your callbacks.\n",
      "4334/4334 [==============================] - 3s 644us/step - loss: 0.0572 - val_loss: 0.0053\n",
      "Epoch 2/40\n",
      "4334/4334 [==============================] - 3s 622us/step - loss: 0.0056 - val_loss: 0.0063\n",
      "Epoch 3/40\n",
      "4334/4334 [==============================] - 3s 609us/step - loss: 0.0056 - val_loss: 0.0054\n",
      "Epoch 4/40\n",
      "4334/4334 [==============================] - 3s 650us/step - loss: 0.0056 - val_loss: 0.0050\n",
      "Epoch 5/40\n",
      "4334/4334 [==============================] - 3s 617us/step - loss: 0.0056 - val_loss: 0.0052\n",
      "Epoch 6/40\n",
      "4334/4334 [==============================] - 3s 643us/step - loss: 0.0056 - val_loss: 0.0051\n",
      "Epoch 7/40\n",
      "4334/4334 [==============================] - 3s 661us/step - loss: 0.0055 - val_loss: 0.0049\n",
      "Epoch 8/40\n",
      "4334/4334 [==============================] - 3s 675us/step - loss: 0.0056 - val_loss: 0.0050\n",
      "Epoch 9/40\n",
      "4334/4334 [==============================] - 3s 661us/step - loss: 0.0056 - val_loss: 0.0051\n",
      "Epoch 10/40\n",
      "4334/4334 [==============================] - 3s 686us/step - loss: 0.0055 - val_loss: 0.0051\n",
      "Epoch 11/40\n",
      "4334/4334 [==============================] - 3s 688us/step - loss: 0.0056 - val_loss: 0.0054\n",
      "Epoch 12/40\n",
      "4334/4334 [==============================] - 3s 655us/step - loss: 0.0056 - val_loss: 0.0058\n",
      "Epoch 13/40\n",
      "4334/4334 [==============================] - 3s 675us/step - loss: 0.0056 - val_loss: 0.0052\n",
      "Epoch 14/40\n",
      "4334/4334 [==============================] - 3s 683us/step - loss: 0.0056 - val_loss: 0.0052\n",
      "Epoch 15/40\n",
      "4334/4334 [==============================] - 3s 705us/step - loss: 0.0055 - val_loss: 0.0053\n",
      "Epoch 16/40\n",
      "4334/4334 [==============================] - 3s 704us/step - loss: 0.0055 - val_loss: 0.0049\n",
      "Epoch 17/40\n",
      "4334/4334 [==============================] - 3s 664us/step - loss: 0.0056 - val_loss: 0.0051\n",
      "Epoch 18/40\n",
      "4334/4334 [==============================] - 3s 725us/step - loss: 0.0055 - val_loss: 0.0051\n",
      "Epoch 19/40\n",
      "4334/4334 [==============================] - 3s 611us/step - loss: 0.0056 - val_loss: 0.0053\n",
      "Epoch 20/40\n",
      "4334/4334 [==============================] - 3s 653us/step - loss: 0.0057 - val_loss: 0.0053\n",
      "Epoch 21/40\n",
      "4334/4334 [==============================] - 3s 596us/step - loss: 0.0057 - val_loss: 0.0055\n",
      "Epoch 22/40\n",
      "4334/4334 [==============================] - 3s 634us/step - loss: 0.0057 - val_loss: 0.0055\n",
      "Epoch 23/40\n",
      "4334/4334 [==============================] - 3s 631us/step - loss: 0.0057 - val_loss: 0.0054\n",
      "Epoch 24/40\n",
      "4334/4334 [==============================] - 3s 621us/step - loss: 0.0057 - val_loss: 0.0054\n",
      "Epoch 25/40\n",
      "4334/4334 [==============================] - 3s 651us/step - loss: 0.0057 - val_loss: 0.0054\n",
      "Epoch 26/40\n",
      "4334/4334 [==============================] - 3s 658us/step - loss: 0.0057 - val_loss: 0.0054\n",
      "Epoch 27/40\n",
      "4334/4334 [==============================] - 3s 636us/step - loss: 0.0057 - val_loss: 0.0055\n",
      "Epoch 28/40\n",
      "4334/4334 [==============================] - 3s 639us/step - loss: 0.0057 - val_loss: 0.0054\n",
      "Epoch 29/40\n",
      "4334/4334 [==============================] - 2s 570us/step - loss: 0.0057 - val_loss: 0.0054\n",
      "Epoch 30/40\n",
      "4334/4334 [==============================] - 3s 694us/step - loss: 0.0057 - val_loss: 0.0054\n",
      "Epoch 31/40\n",
      "4334/4334 [==============================] - 3s 690us/step - loss: 0.0057 - val_loss: 0.0054\n",
      "Epoch 32/40\n",
      "4334/4334 [==============================] - 3s 634us/step - loss: 0.0057 - val_loss: 0.0054\n",
      "Epoch 33/40\n",
      "4334/4334 [==============================] - 3s 617us/step - loss: 0.0057 - val_loss: 0.0054\n",
      "Epoch 34/40\n",
      "4334/4334 [==============================] - 3s 600us/step - loss: 0.0057 - val_loss: 0.0054\n",
      "Epoch 35/40\n",
      "4334/4334 [==============================] - 3s 598us/step - loss: 0.0057 - val_loss: 0.0054\n",
      "Epoch 36/40\n",
      "4334/4334 [==============================] - 3s 602us/step - loss: 0.0057 - val_loss: 0.0054\n",
      "Epoch 37/40\n",
      "4334/4334 [==============================] - 3s 616us/step - loss: 0.0057 - val_loss: 0.0054\n",
      "Epoch 38/40\n",
      "4334/4334 [==============================] - 3s 606us/step - loss: 0.0057 - val_loss: 0.0054\n",
      "Epoch 39/40\n",
      "4334/4334 [==============================] - 3s 601us/step - loss: 0.0057 - val_loss: 0.0055\n",
      "Epoch 40/40\n",
      "4334/4334 [==============================] - 3s 592us/step - loss: 0.0057 - val_loss: 0.0054\n"
     ]
    },
    {
     "data": {
      "text/plain": [
       "<tensorflow.python.keras.callbacks.History at 0x160ea8cd550>"
      ]
     },
     "execution_count": 143,
     "metadata": {},
     "output_type": "execute_result"
    }
   ],
   "source": [
    "model4 = tf.keras.models.Sequential([\n",
    "    tf.keras.layers.Dense(64,input_shape=(x_train.shape[1],), activation='relu',kernel_regularizer='l1'),\n",
    "    tf.keras.layers.Dense(32,activation='tanh'),\n",
    "    tf.keras.layers.Dense(1, activation= 'linear'),\n",
    "])\n",
    "\n",
    "model4.compile(optimizer='adam',\n",
    "              loss='mean_squared_error')\n",
    "\n",
    "model4.fit(x_train, y_train,\n",
    "          validation_data=(x_valid, y_valid),\n",
    "          epochs=40,\n",
    "          batch_size=2)"
   ]
  },
  {
   "cell_type": "code",
   "execution_count": null,
   "id": "0e822e1e",
   "metadata": {},
   "outputs": [],
   "source": [
    "Me quedo con el primer modelo con adam.\n",
    "Guardo una copia del modelo2 (porque tiene más neuronas y un resultado similar) sin la capa con la función de activación lineal final para cuando combine los datos numericos y categoricos con el de imágenes. \n"
   ]
  },
  {
   "cell_type": "code",
   "execution_count": 168,
   "id": "2092fb5a",
   "metadata": {},
   "outputs": [],
   "source": [
    "#modelo para combinar con imágenes. \n",
    "#No pongo función de activación tanh en la segunda capa como antes ya que será capa intermedia en el modelo combinado y reservo la capa adicional que añada para usar la función de activación tanh\n",
    "modeloMLP= tf.keras.models.Sequential([\n",
    "    tf.keras.layers.Dense(64,input_shape=(x_train.shape[1],), activation='relu'),\n",
    "    tf.keras.layers.Dense(32,activation='relu'),\n",
    "    ])"
   ]
  },
  {
   "cell_type": "code",
   "execution_count": 145,
   "id": "01681bf4",
   "metadata": {},
   "outputs": [
    {
     "data": {
      "text/plain": [
       "<tf.Tensor 'dense_58/Tanh:0' shape=(None, 32) dtype=float32>"
      ]
     },
     "execution_count": 145,
     "metadata": {},
     "output_type": "execute_result"
    }
   ],
   "source": [
    "modeloMLP.output"
   ]
  },
  {
   "cell_type": "code",
   "execution_count": null,
   "id": "5b71f8e4",
   "metadata": {},
   "outputs": [],
   "source": [
    "#También he probado con el random initializer de los pesos, no defino learning rate ya que leo que con adam como optimizer no es necesario definir el learning rate ya que cada parámetro tiene su propio learning rate \n",
    "#investigar si sobra tiempo. \n",
    "#también probaría con sigmoide como salida (ya que tengo normalizados los datos). en una de los pruebas me dio un resultado mejor, aunque no lo he podido repetir.\n",
    "#dejo la opción de probar con model.evaluate con los datos de test para poder usarlos primero en el modelo combinado. \n",
    "#si veo que puedo volver a esto metería más capas, revisaría la normalización... y revisaria learning rate "
   ]
  },
  {
   "cell_type": "code",
   "execution_count": 179,
   "id": "c477085a",
   "metadata": {},
   "outputs": [],
   "source": [
    "#aunque tardan poco, hago copia de los modelos por si hay que subirlos al colab\n",
    "model.save('modeloMLP.h5')\n",
    "model.save('model.h5')\n",
    "model.save('model2.h5')\n",
    "model.save('model3.h5')\n",
    "model.save('model4.h5')\n",
    "model.save('model5.h5')\n",
    "\n",
    "#new_model = keras.models.load_model('path_to_my_model.h5')\n"
   ]
  },
  {
   "cell_type": "markdown",
   "id": "3ba01743",
   "metadata": {},
   "source": [
    "## REGRESIÓN CON IMAGENES"
   ]
  },
  {
   "cell_type": "code",
   "execution_count": 146,
   "id": "32ac6bbb",
   "metadata": {},
   "outputs": [
    {
     "name": "stdout",
     "output_type": "stream",
     "text": [
      "(10700, 128, 128, 3)\n",
      "255\n",
      "0\n"
     ]
    }
   ],
   "source": [
    "#Veo el tensor que tengo separado con imágenes bien cargadas antes de normalizar. \n",
    "print(loaded_imgs_clean.shape)\n",
    "print(loaded_imgs_clean.max())\n",
    "print(loaded_imgs_clean.min())"
   ]
  },
  {
   "cell_type": "code",
   "execution_count": 147,
   "id": "d25e899b",
   "metadata": {},
   "outputs": [],
   "source": [
    "#normalizo inputs\n",
    "norm_imgs=loaded_imgs_clean/255.0"
   ]
  },
  {
   "cell_type": "code",
   "execution_count": 148,
   "id": "d5ea04bb",
   "metadata": {},
   "outputs": [
    {
     "name": "stdout",
     "output_type": "stream",
     "text": [
      "1.0\n"
     ]
    },
    {
     "data": {
      "text/plain": [
       "dtype('float64')"
      ]
     },
     "execution_count": 148,
     "metadata": {},
     "output_type": "execute_result"
    }
   ],
   "source": [
    "print(norm_imgs.max())\n",
    "norm_imgs.dtype"
   ]
  },
  {
   "cell_type": "code",
   "execution_count": 149,
   "id": "43f9de87",
   "metadata": {},
   "outputs": [],
   "source": [
    "#divido entre train y test para reservar una porción para las pruebas finales sin tocar y sin que aprenda de los datos.\n",
    "x_img_train_orig, x_img_test_orig= train_test_split(norm_imgs,test_size=0.1)"
   ]
  },
  {
   "cell_type": "code",
   "execution_count": 150,
   "id": "677623a4",
   "metadata": {},
   "outputs": [
    {
     "data": {
      "text/plain": [
       "(9630, 128, 128, 3)"
      ]
     },
     "execution_count": 150,
     "metadata": {},
     "output_type": "execute_result"
    }
   ],
   "source": [
    "x_img_train_orig.shape"
   ]
  },
  {
   "cell_type": "code",
   "execution_count": 151,
   "id": "965c6f43",
   "metadata": {},
   "outputs": [
    {
     "data": {
      "text/plain": [
       "(1070, 128, 128, 3)"
      ]
     },
     "execution_count": 151,
     "metadata": {},
     "output_type": "execute_result"
    }
   ],
   "source": [
    "x_img_test_orig.shape\n",
    "#el x_img_test_orig se guarda para la prueba final junto con el x_test_orig de los datos numéricos"
   ]
  },
  {
   "cell_type": "code",
   "execution_count": 157,
   "id": "2f622c59",
   "metadata": {},
   "outputs": [],
   "source": [
    "#vuelvo a dividir para tener train y valid para entrenar sin tocar test. \n",
    "\n",
    "x_img_train, x_img_valid = train_test_split(x_img_train_orig, test_size=0.1)\n"
   ]
  },
  {
   "cell_type": "code",
   "execution_count": 158,
   "id": "6955b9a4",
   "metadata": {},
   "outputs": [
    {
     "name": "stdout",
     "output_type": "stream",
     "text": [
      "(8667, 128, 128, 3)\n",
      "(963, 128, 128, 3)\n",
      "(8667, 1)\n",
      "(963, 1)\n"
     ]
    }
   ],
   "source": [
    "print(x_img_train.shape)\n",
    "print(x_img_valid.shape)\n",
    "print(y_train.shape)\n",
    "print(y_valid.shape)\n"
   ]
  },
  {
   "cell_type": "code",
   "execution_count": 161,
   "id": "086f2139",
   "metadata": {},
   "outputs": [],
   "source": [
    "#Pruebo un primer modelo de CNN según algunas de las recomendaciones de clase, con dropout entre las capas convolucionales. Max pooling suele dar mejores resultados que avg y flatten es necesario para las capas FC\n",
    "#acabo en función de activación lineal y 1 neurona porque quiero que me de un valor (estimar el precio)\n",
    "img_model = tf.keras.Sequential()\n",
    "img_model.add(tf.keras.layers.Conv2D(32, [3, 3], activation='relu', kernel_initializer='random_normal', input_shape=(128,128,3)))\n",
    "img_model.add(tf.keras.layers.Dropout(0.25))\n",
    "img_model.add(tf.keras.layers.Conv2D(64, [3, 3], activation='relu'))\n",
    "img_model.add(tf.keras.layers.MaxPooling2D(pool_size=(2, 2)))\n",
    "img_model.add(tf.keras.layers.Flatten())\n",
    "img_model.add(tf.keras.layers.Dense(32, activation='relu'))\n",
    "img_model.add(tf.keras.layers.Dropout(0.3))\n",
    "img_model.add(tf.keras.layers.Dense(1, activation='linear'))\n",
    "\n"
   ]
  },
  {
   "cell_type": "code",
   "execution_count": 162,
   "id": "7a211f70",
   "metadata": {},
   "outputs": [
    {
     "name": "stdout",
     "output_type": "stream",
     "text": [
      "Model: \"sequential_16\"\n",
      "_________________________________________________________________\n",
      "Layer (type)                 Output Shape              Param #   \n",
      "=================================================================\n",
      "conv2d_18 (Conv2D)           (None, 126, 126, 32)      896       \n",
      "_________________________________________________________________\n",
      "dropout_13 (Dropout)         (None, 126, 126, 32)      0         \n",
      "_________________________________________________________________\n",
      "conv2d_19 (Conv2D)           (None, 124, 124, 64)      18496     \n",
      "_________________________________________________________________\n",
      "max_pooling2d_4 (MaxPooling2 (None, 62, 62, 64)        0         \n",
      "_________________________________________________________________\n",
      "flatten_7 (Flatten)          (None, 246016)            0         \n",
      "_________________________________________________________________\n",
      "dense_63 (Dense)             (None, 32)                7872544   \n",
      "_________________________________________________________________\n",
      "dropout_14 (Dropout)         (None, 32)                0         \n",
      "_________________________________________________________________\n",
      "dense_64 (Dense)             (None, 1)                 33        \n",
      "=================================================================\n",
      "Total params: 7,891,969\n",
      "Trainable params: 7,891,969\n",
      "Non-trainable params: 0\n",
      "_________________________________________________________________\n"
     ]
    }
   ],
   "source": [
    "img_model.summary() \n",
    "#resaltar el cambio en el número de parámetros cuando paso de convolucional a FC. "
   ]
  },
  {
   "cell_type": "code",
   "execution_count": 163,
   "id": "c990c24b",
   "metadata": {},
   "outputs": [],
   "source": [
    "img_model.compile(loss='mean_squared_error',\n",
    "              optimizer=tf.keras.optimizers.Adam()\n",
    "               )"
   ]
  },
  {
   "cell_type": "code",
   "execution_count": 164,
   "id": "3dbd7d42",
   "metadata": {},
   "outputs": [
    {
     "name": "stdout",
     "output_type": "stream",
     "text": [
      "Epoch 1/2\n",
      "2167/2167 [==============================] - 339s 157ms/step - loss: 0.4417 - val_loss: 0.0037\n",
      "Epoch 2/2\n",
      "2167/2167 [==============================] - 347s 160ms/step - loss: 0.0039 - val_loss: 0.0037\n"
     ]
    },
    {
     "data": {
      "text/plain": [
       "<tensorflow.python.keras.callbacks.History at 0x15ef6887ca0>"
      ]
     },
     "execution_count": 164,
     "metadata": {},
     "output_type": "execute_result"
    }
   ],
   "source": [
    "img_model.fit(x_img_train,\n",
    "          y_train,\n",
    "          batch_size=4,\n",
    "          epochs=2,\n",
    "          verbose=1,\n",
    "          validation_data=(x_img_valid, y_valid))"
   ]
  },
  {
   "cell_type": "code",
   "execution_count": 165,
   "id": "88035e6d",
   "metadata": {},
   "outputs": [],
   "source": [
    "model.save_weights('img_model.h5')\n",
    "#model.load_weights('img_model.h5')"
   ]
  },
  {
   "cell_type": "code",
   "execution_count": null,
   "id": "9f74fde6",
   "metadata": {},
   "outputs": [],
   "source": []
  },
  {
   "cell_type": "code",
   "execution_count": 166,
   "id": "d8913359",
   "metadata": {
    "scrolled": true
   },
   "outputs": [
    {
     "name": "stdout",
     "output_type": "stream",
     "text": [
      "Epoch 1/2\n",
      "2167/2167 [==============================] - 542s 250ms/step - loss: 0.0095 - val_loss: 0.0053\n",
      "Epoch 2/2\n",
      "2167/2167 [==============================] - 559s 258ms/step - loss: 0.0059 - val_loss: 0.0052\n"
     ]
    },
    {
     "data": {
      "text/plain": [
       "<tensorflow.python.keras.callbacks.History at 0x15efac122b0>"
      ]
     },
     "execution_count": 166,
     "metadata": {},
     "output_type": "execute_result"
    }
   ],
   "source": [
    "#Pruebo con un modelo base preentrenado y añado un global average pooling que combina Batch normalization (da robustez al modelo, reduce overfitting), pooling y flatten\n",
    "input_x=(128,128,3)\n",
    "\n",
    "base_model = VGG16(weights='imagenet', input_shape=(input_x),include_top=False)\n",
    "base_model.trainable = False\n",
    "\n",
    "inputs = tf.keras.Input(shape=input_x)\n",
    "x = base_model(inputs, training=False)\n",
    "x = keras.layers.GlobalAveragePooling2D()(x)\n",
    "outputs = keras.layers.Dense(1, activation='linear')(x)\n",
    "modelVGG = keras.Model(inputs, outputs)\n",
    "\n",
    "\n",
    "modelVGG.compile(loss='mean_squared_error',\n",
    "              optimizer=tf.keras.optimizers.Adam(),\n",
    "             )\n",
    "\n",
    "modelVGG.fit(x_img_train,\n",
    "          y_train,\n",
    "          batch_size=4,\n",
    "          epochs=2,\n",
    "          verbose=1,\n",
    "          validation_data=(x_img_valid, y_valid))\n"
   ]
  },
  {
   "cell_type": "code",
   "execution_count": 169,
   "id": "81d49f72",
   "metadata": {},
   "outputs": [],
   "source": [
    "model.save_weights('modelVGG.h5')\n",
    "#model.load_weights('modelVGG.h5')"
   ]
  },
  {
   "cell_type": "code",
   "execution_count": 170,
   "id": "9d918953",
   "metadata": {},
   "outputs": [
    {
     "data": {
      "text/plain": [
       "<tf.Tensor 'dense_65/BiasAdd:0' shape=(None, 1) dtype=float32>"
      ]
     },
     "execution_count": 170,
     "metadata": {},
     "output_type": "execute_result"
    }
   ],
   "source": [
    "modelVGG.output"
   ]
  },
  {
   "cell_type": "code",
   "execution_count": null,
   "id": "ce013e78",
   "metadata": {},
   "outputs": [],
   "source": [
    "# Una vez probados estos modelos, me quedo con mi versión ya que parece que da mejores resultados con pocas epochs y tarda menos. tendría que probar más, en otras versiones he probado con más capas.\n",
    "# Me queda pendiente probar como base resnet ya que querría probar con más batch normalization y vimos en clase que el residual block de la resnet lo utiliza.\n",
    "# Busco literatura y parece que resnet lo usan en airbnb y aligeran los pesos cargando los de imagenet de keras keras.applications.resnet50.ResNet50. \n",
    "# añadiría más epochs y más dropouts y más pruebas, pero no he llegado.\n",
    "# los datos son obviamente peores que los numéricos, ya que las imágenes no está definido el tipo de habitación, ni el contenido, ni tienen mucha nitidez...pero no me parece que estén mal para un primer acercamiento rápido. \n",
    "# pruebo el modelo combinado. para ello guardo una versión de mi modelo quitando la última capa con la función de activación linear para que me termine en el mismo número de neuronas que el modelo de números. lo cual no parece imprescindible pero añade estabilidad "
   ]
  },
  {
   "cell_type": "code",
   "execution_count": 167,
   "id": "a55127d9",
   "metadata": {},
   "outputs": [],
   "source": [
    "img_model_CNN = tf.keras.Sequential()\n",
    "img_model_CNN.add(tf.keras.layers.Conv2D(32, [3, 3], activation='relu', kernel_initializer='random_normal', input_shape=(128,128,3)))\n",
    "img_model_CNN.add(tf.keras.layers.Dropout(0.25))\n",
    "img_model_CNN.add(tf.keras.layers.Conv2D(64, [3, 3], activation='relu'))\n",
    "img_model_CNN.add(tf.keras.layers.GlobalAveragePooling2D())\n",
    "img_model_CNN.add(tf.keras.layers.Dense(32, activation='relu')) \n",
    "\n"
   ]
  },
  {
   "cell_type": "code",
   "execution_count": 177,
   "id": "3befd45e",
   "metadata": {},
   "outputs": [],
   "source": [
    "model.save_weights('img_model_CNN.h5')\n",
    "#model.load_weights('img_model_CNN.h5')"
   ]
  },
  {
   "cell_type": "code",
   "execution_count": 172,
   "id": "f1596dd2",
   "metadata": {},
   "outputs": [
    {
     "data": {
      "text/plain": [
       "<tf.Tensor 'dense_66/Relu:0' shape=(None, 32) dtype=float32>"
      ]
     },
     "execution_count": 172,
     "metadata": {},
     "output_type": "execute_result"
    }
   ],
   "source": [
    "img_model_CNN.output"
   ]
  },
  {
   "cell_type": "markdown",
   "id": "9eeb0793",
   "metadata": {},
   "source": [
    "## Modelo combinado\n",
    "El modelo combinado se puede utilizar cuando se tienen datos de diferentes tipos, como es nuestro caso, que queremos combinar datos numéricos y categóricos con imágenes para intentar entrenar un modelo que mejore la predicción del precio de los apartamentos de airbnb. \n"
   ]
  },
  {
   "cell_type": "code",
   "execution_count": null,
   "id": "5962cf49",
   "metadata": {},
   "outputs": [],
   "source": [
    "#según el link proporcionado para la práctica. una opción de combinación de los dos modelos anteriores sería: "
   ]
  },
  {
   "cell_type": "code",
   "execution_count": 171,
   "id": "d3db0afe",
   "metadata": {},
   "outputs": [],
   "source": [
    "combinedInput = concatenate([modeloMLP.output, img_model_CNN.output])"
   ]
  },
  {
   "cell_type": "code",
   "execution_count": 175,
   "id": "8b43fff0",
   "metadata": {},
   "outputs": [],
   "source": [
    "#A la combinación de mis dos modelos elegidos de MLP y CNN le añado 2 capas dense. \n",
    "#a la primera de las dos capas le pongo función de activación tangente hiperbólica que parece que mejora los resultados.\n",
    "#la segunda y última con función de activación lineal y una neurona de salida para obtener un resultado único que sea la estimación del precio.\n",
    "x= Dense(8,activation='tanh')(combinedInput)\n",
    "x= Dense(1,activation='linear')(x)\n",
    "model_global= Model(inputs=[modeloMLP.input, img_model_CNN.input], outputs=x)"
   ]
  },
  {
   "cell_type": "code",
   "execution_count": 176,
   "id": "4a07fef4",
   "metadata": {},
   "outputs": [
    {
     "name": "stdout",
     "output_type": "stream",
     "text": [
      "Epoch 1/5\n",
      "4334/4334 [==============================] - 275s 63ms/step - loss: 0.0023 - val_loss: 0.0018\n",
      "Epoch 2/5\n",
      "4334/4334 [==============================] - 276s 64ms/step - loss: 0.0018 - val_loss: 0.0019\n",
      "Epoch 3/5\n",
      "4334/4334 [==============================] - 287s 66ms/step - loss: 0.0017 - val_loss: 0.0017\n",
      "Epoch 4/5\n",
      "4334/4334 [==============================] - 281s 65ms/step - loss: 0.0016 - val_loss: 0.0017\n",
      "Epoch 5/5\n",
      "4334/4334 [==============================] - 275s 63ms/step - loss: 0.0016 - val_loss: 0.0016\n"
     ]
    },
    {
     "data": {
      "text/plain": [
       "<tensorflow.python.keras.callbacks.History at 0x15efb1378e0>"
      ]
     },
     "execution_count": 176,
     "metadata": {},
     "output_type": "execute_result"
    }
   ],
   "source": [
    "#mantengo adam porque es el más recomendado y el mse como función de pérdidas ya que estoy en regresión. pongo 5 epochs ya que voy justa de tiempo. me gustaría probar más variantes. \n",
    "model_global.compile(optimizer='adam',\n",
    "              loss='mean_squared_error'\n",
    "              )\n",
    "model_global.fit(x=[x_train, x_img_train],\n",
    "                 y= y_train,\n",
    "                 validation_data=([x_valid,x_img_valid], y_valid),\n",
    "                 epochs=5,\n",
    "                 batch_size=2)"
   ]
  },
  {
   "cell_type": "code",
   "execution_count": 178,
   "id": "59e6d0e8",
   "metadata": {},
   "outputs": [],
   "source": [
    "model.save_weights('model_global.h5')"
   ]
  },
  {
   "cell_type": "markdown",
   "id": "8aa88987",
   "metadata": {},
   "source": [
    "Los datos combinados parecen ser ligeramente peores que los numéricos aunque mucho mejores de lo que esperaba. \n",
    "\n",
    "Entiendo, como decía en la parte específica de imágenes, que el hecho de que las imágenes no sean siempre de la misma instancia influye mucho. \n",
    "\n",
    "Además de muchas pruebas que me quedan por hacer, llegados a este punto faltaría probar con los datos de test que he reservado tanto en la parte numérica como en la parte de imágenes.. pero no llego a tiempo para hacer esta prueba.\n",
    "\n",
    "En el penúltimo momento me dice colab que he agotado mi memoria disponible y me he tenido que poner a actualizar otra vez en jupyter notebook. veo la manera de confirmar que están todos los datos en github para que se pueda reproducir la práctica en la entrega.\n",
    "\n",
    "Queda pendiente confirmar con datos de test como si fueran datos nuevos, pero por lo menos he ido probando con validación y creo que he podido aprender la necesidad del ensayo y error y de leer lo que ya se ha hecho para optimizar el aprendizaje de mi modelo y mejorar los resultados. \n",
    "\n",
    "También para el futuro, intentaré poder hacer pruebas en la nube para no tener problemas de capacidad. "
   ]
  }
 ],
 "metadata": {
  "kernelspec": {
   "display_name": "Python 3",
   "language": "python",
   "name": "python3"
  },
  "language_info": {
   "codemirror_mode": {
    "name": "ipython",
    "version": 3
   },
   "file_extension": ".py",
   "mimetype": "text/x-python",
   "name": "python",
   "nbconvert_exporter": "python",
   "pygments_lexer": "ipython3",
   "version": "3.8.8"
  }
 },
 "nbformat": 4,
 "nbformat_minor": 5
}
